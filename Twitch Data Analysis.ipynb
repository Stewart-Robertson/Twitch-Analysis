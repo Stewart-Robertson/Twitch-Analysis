{
 "cells": [
  {
   "cell_type": "markdown",
   "metadata": {
    "toc": true
   },
   "source": [
    "<h1>Table of Contents<span class=\"tocSkip\"></span></h1>\n",
    "<div class=\"toc\"><ul class=\"toc-item\"><li><span><a href=\"#Twitch-Viewers-and-Streamers\" data-toc-modified-id=\"Twitch-Viewers-and-Streamers-1\"><span class=\"toc-item-num\">1&nbsp;&nbsp;</span>Twitch Viewers and Streamers</a></span><ul class=\"toc-item\"><li><span><a href=\"#The-data\" data-toc-modified-id=\"The-data-1.1\"><span class=\"toc-item-num\">1.1&nbsp;&nbsp;</span>The data</a></span></li></ul></li><li><span><a href=\"#Loading-the-data---Pandas-and-SQL\" data-toc-modified-id=\"Loading-the-data---Pandas-and-SQL-2\"><span class=\"toc-item-num\">2&nbsp;&nbsp;</span>Loading the data - Pandas and SQL</a></span><ul class=\"toc-item\"><li><span><a href=\"#Chat-data\" data-toc-modified-id=\"Chat-data-2.1\"><span class=\"toc-item-num\">2.1&nbsp;&nbsp;</span>Chat data</a></span></li><li><span><a href=\"#Stream-data\" data-toc-modified-id=\"Stream-data-2.2\"><span class=\"toc-item-num\">2.2&nbsp;&nbsp;</span>Stream data</a></span></li></ul></li><li><span><a href=\"#Subscribers-vs-non-subscribers\" data-toc-modified-id=\"Subscribers-vs-non-subscribers-3\"><span class=\"toc-item-num\">3&nbsp;&nbsp;</span>Subscribers vs non-subscribers</a></span></li><li><span><a href=\"#Distinct-games\" data-toc-modified-id=\"Distinct-games-4\"><span class=\"toc-item-num\">4&nbsp;&nbsp;</span>Distinct games</a></span></li><li><span><a href=\"#Distinct-channels\" data-toc-modified-id=\"Distinct-channels-5\"><span class=\"toc-item-num\">5&nbsp;&nbsp;</span>Distinct channels</a></span></li><li><span><a href=\"#The-most-popular-games\" data-toc-modified-id=\"The-most-popular-games-6\"><span class=\"toc-item-num\">6&nbsp;&nbsp;</span>The most popular games</a></span></li><li><span><a href=\"#Location-of-viewers\" data-toc-modified-id=\"Location-of-viewers-7\"><span class=\"toc-item-num\">7&nbsp;&nbsp;</span>Location of viewers</a></span><ul class=\"toc-item\"><li><span><a href=\"#Most-viewed-games-in-each-country\" data-toc-modified-id=\"Most-viewed-games-in-each-country-7.1\"><span class=\"toc-item-num\">7.1&nbsp;&nbsp;</span>Most viewed games in each country</a></span></li><li><span><a href=\"#Breakdown-of-location-of-viewers-for-most-popular-game\" data-toc-modified-id=\"Breakdown-of-location-of-viewers-for-most-popular-game-7.2\"><span class=\"toc-item-num\">7.2&nbsp;&nbsp;</span>Breakdown of location of viewers for most popular game</a></span></li></ul></li><li><span><a href=\"#The-most-popular-ways-to-stream\" data-toc-modified-id=\"The-most-popular-ways-to-stream-8\"><span class=\"toc-item-num\">8&nbsp;&nbsp;</span>The most popular ways to stream</a></span></li><li><span><a href=\"#The-most-popular-genres\" data-toc-modified-id=\"The-most-popular-genres-9\"><span class=\"toc-item-num\">9&nbsp;&nbsp;</span>The most popular genres</a></span></li><li><span><a href=\"#Time-series-analysis---most-active-times-of-day\" data-toc-modified-id=\"Time-series-analysis---most-active-times-of-day-10\"><span class=\"toc-item-num\">10&nbsp;&nbsp;</span>Time-series analysis - most active times of day</a></span><ul class=\"toc-item\"><li><span><a href=\"#Aggregating-using-SQL\" data-toc-modified-id=\"Aggregating-using-SQL-10.1\"><span class=\"toc-item-num\">10.1&nbsp;&nbsp;</span>Aggregating using SQL</a></span><ul class=\"toc-item\"><li><span><a href=\"#Changing-the-time-format-in-the-chat-table\" data-toc-modified-id=\"Changing-the-time-format-in-the-chat-table-10.1.1\"><span class=\"toc-item-num\">10.1.1&nbsp;&nbsp;</span>Changing the <code>time</code> format in the <code>chat</code> table</a></span></li></ul></li><li><span><a href=\"#Converting-to-Pandas-for-plotting\" data-toc-modified-id=\"Converting-to-Pandas-for-plotting-10.2\"><span class=\"toc-item-num\">10.2&nbsp;&nbsp;</span>Converting to Pandas for plotting</a></span></li><li><span><a href=\"#Plotting-views-per-hour-of-the-day\" data-toc-modified-id=\"Plotting-views-per-hour-of-the-day-10.3\"><span class=\"toc-item-num\">10.3&nbsp;&nbsp;</span>Plotting views per hour of the day</a></span></li></ul></li><li><span><a href=\"#Joining-the-data\" data-toc-modified-id=\"Joining-the-data-11\"><span class=\"toc-item-num\">11&nbsp;&nbsp;</span>Joining the data</a></span></li><li><span><a href=\"#Visualisation-of-results\" data-toc-modified-id=\"Visualisation-of-results-12\"><span class=\"toc-item-num\">12&nbsp;&nbsp;</span>Visualisation of results</a></span><ul class=\"toc-item\"><li><span><a href=\"#Views-per-game\" data-toc-modified-id=\"Views-per-game-12.1\"><span class=\"toc-item-num\">12.1&nbsp;&nbsp;</span>Views per game</a></span><ul class=\"toc-item\"><li><span><a href=\"#Saving-earlier-queries-into-Pandas-DataFrames\" data-toc-modified-id=\"Saving-earlier-queries-into-Pandas-DataFrames-12.1.1\"><span class=\"toc-item-num\">12.1.1&nbsp;&nbsp;</span>Saving earlier queries into Pandas DataFrames</a></span></li><li><span><a href=\"#Initial-Visualisation\" data-toc-modified-id=\"Initial-Visualisation-12.1.2\"><span class=\"toc-item-num\">12.1.2&nbsp;&nbsp;</span>Initial Visualisation</a></span></li><li><span><a href=\"#Clipping-the-data-and-second-visualisation\" data-toc-modified-id=\"Clipping-the-data-and-second-visualisation-12.1.3\"><span class=\"toc-item-num\">12.1.3&nbsp;&nbsp;</span>Clipping the data and second visualisation</a></span></li></ul></li><li><span><a href=\"#The-most-popular-game---where-do-the-views-come-from?\" data-toc-modified-id=\"The-most-popular-game---where-do-the-views-come-from?-12.2\"><span class=\"toc-item-num\">12.2&nbsp;&nbsp;</span>The most popular game - where do the views come from?</a></span><ul class=\"toc-item\"><li><span><a href=\"#Creating-pandas-DataFrames-with-the-relevant-data\" data-toc-modified-id=\"Creating-pandas-DataFrames-with-the-relevant-data-12.2.1\"><span class=\"toc-item-num\">12.2.1&nbsp;&nbsp;</span>Creating pandas DataFrames with the relevant data</a></span></li><li><span><a href=\"#Selecting-out-features-from-DataFrames-for-plotting\" data-toc-modified-id=\"Selecting-out-features-from-DataFrames-for-plotting-12.2.2\"><span class=\"toc-item-num\">12.2.2&nbsp;&nbsp;</span>Selecting out features from DataFrames for plotting</a></span></li><li><span><a href=\"#Plotting-proportion-of-views-accounted-for-by-the-top-10-countries\" data-toc-modified-id=\"Plotting-proportion-of-views-accounted-for-by-the-top-10-countries-12.2.3\"><span class=\"toc-item-num\">12.2.3&nbsp;&nbsp;</span>Plotting proportion of views accounted for by the top 10 countries</a></span></li></ul></li><li><span><a href=\"#Interactive-map-of-results\" data-toc-modified-id=\"Interactive-map-of-results-12.3\"><span class=\"toc-item-num\">12.3&nbsp;&nbsp;</span>Interactive map of results</a></span><ul class=\"toc-item\"><li><span><a href=\"#GeoPy-and-Nominatim\" data-toc-modified-id=\"GeoPy-and-Nominatim-12.3.1\"><span class=\"toc-item-num\">12.3.1&nbsp;&nbsp;</span>GeoPy and Nominatim</a></span></li><li><span><a href=\"#Folium\" data-toc-modified-id=\"Folium-12.3.2\"><span class=\"toc-item-num\">12.3.2&nbsp;&nbsp;</span>Folium</a></span></li><li><span><a href=\"#Plotting-the-countries-on-the-map\" data-toc-modified-id=\"Plotting-the-countries-on-the-map-12.3.3\"><span class=\"toc-item-num\">12.3.3&nbsp;&nbsp;</span>Plotting the countries on the map</a></span></li></ul></li></ul></li></ul></div>"
   ]
  },
  {
   "cell_type": "code",
   "execution_count": 1,
   "metadata": {},
   "outputs": [],
   "source": [
    "# importing the modules and classes that will be used\n",
    "import pandas as pd\n",
    "import sqlite3\n",
    "from matplotlib import pyplot as plt\n",
    "import seaborn as sns\n",
    "from geopy.geocoders import Nominatim\n",
    "import folium\n",
    "from folium.plugins import MarkerCluster\n",
    "from datetime import datetime"
   ]
  },
  {
   "attachments": {
    "455px-Twitch_logo.svg.png": {
     "image/png": "[encoded data removed]"
    }
   },
   "cell_type": "markdown",
   "metadata": {},
   "source": [
    "![455px-Twitch_logo.svg.png](attachment:455px-Twitch_logo.svg.png)"
   ]
  },
  {
   "cell_type": "markdown",
   "metadata": {},
   "source": [
    "# Twitch Viewers and Streamers"
   ]
  },
  {
   "cell_type": "markdown",
   "metadata": {},
   "source": [
    "Twitch is the world's largest games streaming site\n",
    "\n",
    "As of February 2020, Twitch had over 15 million daily active users watching people play games ranging from shooters to RPGs, and from playing live music to cooking food. On top of the streaming service, Twitch also has a chat function where users can join chats with the streamer they are watching and all other viewers of the stream.\n",
    "\n",
    "## The data\n",
    "The data used in this project was provided by **Twitch Insights**. The purpose of Twitch Insights is to give game and extension developers access to selected, anonymised data which can be used to inform their development decisions and improve the games and services they offer to end users.\n",
    "\n",
    "There are two `csv` files - the first is data from the `chat`s that users can join, and the second is from `stream`s that users can watch.\n",
    "\n",
    "The `chat` file has around 150k records, and the `stream` file has around 270k records."
   ]
  },
  {
   "cell_type": "markdown",
   "metadata": {},
   "source": [
    "# Loading the data - Pandas and SQL"
   ]
  },
  {
   "cell_type": "code",
   "execution_count": 2,
   "metadata": {},
   "outputs": [],
   "source": [
    "# create a database and store it in a connection object\n",
    "conn = sqlite3.connect('Twitch_data_analysis.db')"
   ]
  },
  {
   "cell_type": "code",
   "execution_count": 3,
   "metadata": {},
   "outputs": [],
   "source": [
    "# load the two csv files into DataFrames\n",
    "chat_df = pd.read_csv('chat.csv')\n",
    "stream_df = pd.read_csv('stream.csv')"
   ]
  },
  {
   "cell_type": "code",
   "execution_count": 4,
   "metadata": {},
   "outputs": [],
   "source": [
    "# create SQL tables from the DataFrames, and add them to the newly-created database\n",
    "chat_table = chat_df.to_sql('chat', conn)\n",
    "stream_table = stream_df.to_sql('stream', conn)"
   ]
  },
  {
   "cell_type": "code",
   "execution_count": 5,
   "metadata": {},
   "outputs": [],
   "source": [
    "%load_ext sql"
   ]
  },
  {
   "cell_type": "code",
   "execution_count": 6,
   "metadata": {},
   "outputs": [
    {
     "data": {
      "text/plain": [
       "'Connected: @Twitch_data_analysis.db'"
      ]
     },
     "execution_count": 6,
     "metadata": {},
     "output_type": "execute_result"
    }
   ],
   "source": [
    "%sql sqlite:///Twitch_data_analysis.db"
   ]
  },
  {
   "cell_type": "code",
   "execution_count": 7,
   "metadata": {},
   "outputs": [
    {
     "name": "stdout",
     "output_type": "stream",
     "text": [
      " * sqlite:///Twitch_data_analysis.db\n",
      "Done.\n"
     ]
    },
    {
     "data": {
      "text/html": [
       "<table>\n",
       "    <thead>\n",
       "        <tr>\n",
       "            <th>index</th>\n",
       "            <th>time</th>\n",
       "            <th>device_id</th>\n",
       "            <th>login</th>\n",
       "            <th>channel</th>\n",
       "            <th>country</th>\n",
       "            <th>player</th>\n",
       "            <th>game</th>\n",
       "        </tr>\n",
       "    </thead>\n",
       "    <tbody>\n",
       "        <tr>\n",
       "            <td>0</td>\n",
       "            <td>01/01/2015 18:45</td>\n",
       "            <td>70e2b95b5ac0d4c227e46966658d16b3e044996e</td>\n",
       "            <td>5c2f5c1f19a7738e16ed0be551d865e8a8fce71d</td>\n",
       "            <td>jerry</td>\n",
       "            <td>BY</td>\n",
       "            <td>None</td>\n",
       "            <td>Dota 2</td>\n",
       "        </tr>\n",
       "        <tr>\n",
       "            <td>1</td>\n",
       "            <td>01/01/2015 01:16</td>\n",
       "            <td>f2b9065b55fd80d6aa653ce989b489f4ec5198be</td>\n",
       "            <td>0d77740e4fb5ce77d94f9f6c8ef1f762990d0344</td>\n",
       "            <td>elaine</td>\n",
       "            <td>HK</td>\n",
       "            <td>None</td>\n",
       "            <td>Devil May Cry 4: Special Edition</td>\n",
       "        </tr>\n",
       "        <tr>\n",
       "            <td>2</td>\n",
       "            <td>01/01/2015 16:22</td>\n",
       "            <td>d448ba963d7e1023dd1b0a40b95d4f6611750692</td>\n",
       "            <td>77ab14c1fb815e1c369ba0cf7d4c56b4fe489997</td>\n",
       "            <td>frank</td>\n",
       "            <td>GB</td>\n",
       "            <td>iphone_t</td>\n",
       "            <td>League of Legends</td>\n",
       "        </tr>\n",
       "        <tr>\n",
       "            <td>3</td>\n",
       "            <td>01/01/2015 03:58</td>\n",
       "            <td>8d6823dc52b400b50aebf269bf1f03a36d19eeaa</td>\n",
       "            <td>91cb88c0743761589273fc5e800e7743ece46494</td>\n",
       "            <td>frank</td>\n",
       "            <td>US</td>\n",
       "            <td>iphone_t</td>\n",
       "            <td>League of Legends</td>\n",
       "        </tr>\n",
       "        <tr>\n",
       "            <td>4</td>\n",
       "            <td>01/01/2015 11:47</td>\n",
       "            <td>16c1e39594d62358d27ae604ad43a071f0d86bc4</td>\n",
       "            <td>51a9234f83d656607cfd7f26690c12d2ffbce353</td>\n",
       "            <td>estelle</td>\n",
       "            <td>DE</td>\n",
       "            <td>None</td>\n",
       "            <td>Dota 2</td>\n",
       "        </tr>\n",
       "    </tbody>\n",
       "</table>"
      ],
      "text/plain": [
       "[(0, '01/01/2015 18:45', '70e2b95b5ac0d4c227e46966658d16b3e044996e', '5c2f5c1f19a7738e16ed0be551d865e8a8fce71d', 'jerry', 'BY', None, 'Dota 2'),\n",
       " (1, '01/01/2015 01:16', 'f2b9065b55fd80d6aa653ce989b489f4ec5198be', '0d77740e4fb5ce77d94f9f6c8ef1f762990d0344', 'elaine', 'HK', None, 'Devil May Cry 4: Special Edition'),\n",
       " (2, '01/01/2015 16:22', 'd448ba963d7e1023dd1b0a40b95d4f6611750692', '77ab14c1fb815e1c369ba0cf7d4c56b4fe489997', 'frank', 'GB', 'iphone_t', 'League of Legends'),\n",
       " (3, '01/01/2015 03:58', '8d6823dc52b400b50aebf269bf1f03a36d19eeaa', '91cb88c0743761589273fc5e800e7743ece46494', 'frank', 'US', 'iphone_t', 'League of Legends'),\n",
       " (4, '01/01/2015 11:47', '16c1e39594d62358d27ae604ad43a071f0d86bc4', '51a9234f83d656607cfd7f26690c12d2ffbce353', 'estelle', 'DE', None, 'Dota 2')]"
      ]
     },
     "execution_count": 7,
     "metadata": {},
     "output_type": "execute_result"
    }
   ],
   "source": [
    "%%sql\n",
    "SELECT *\n",
    "FROM chat\n",
    "LIMIT 5"
   ]
  },
  {
   "cell_type": "markdown",
   "metadata": {},
   "source": [
    "## Chat data"
   ]
  },
  {
   "cell_type": "markdown",
   "metadata": {},
   "source": [
    "As can be seen from the above `SQL` table, there are seven columns in the chat dataset. Twitch records the following data when users log in to a streamer's chat:\n",
    "\n",
    "1. The user's unique `device_id`\n",
    "2. The user's unique `login` - this is essentially a user ID\n",
    "3. The `channel` of the streamer whose chat is being logged into by the user\n",
    "4. The `country` from which the **user** is logging in from\n",
    "5. `player` column - this column appears to be incomplete. A sensible estimate is that it is how the user is logging in to the chat\n",
    "6. Finally, the `game` column. This is the game that the streamer is playing and the users are watching/chatting along with."
   ]
  },
  {
   "cell_type": "code",
   "execution_count": 8,
   "metadata": {},
   "outputs": [
    {
     "name": "stdout",
     "output_type": "stream",
     "text": [
      " * sqlite:///Twitch_data_analysis.db\n",
      "Done.\n"
     ]
    },
    {
     "data": {
      "text/html": [
       "<table>\n",
       "    <thead>\n",
       "        <tr>\n",
       "            <th>index</th>\n",
       "            <th>time</th>\n",
       "            <th>device_id</th>\n",
       "            <th>login</th>\n",
       "            <th>channel</th>\n",
       "            <th>country</th>\n",
       "            <th>player</th>\n",
       "            <th>game</th>\n",
       "            <th>stream_format</th>\n",
       "            <th>subscriber</th>\n",
       "        </tr>\n",
       "    </thead>\n",
       "    <tbody>\n",
       "        <tr>\n",
       "            <td>0</td>\n",
       "            <td>2015-01-01 18:33:52</td>\n",
       "            <td>40ffc2fa6534cf760becbdbf5311e31ad069e46e</td>\n",
       "            <td>085c1eb7b587bfe654f0df7b4ba7f4fc4013636c</td>\n",
       "            <td>frank</td>\n",
       "            <td>US</td>\n",
       "            <td>iphone_t</td>\n",
       "            <td>League of Legends</td>\n",
       "            <td>None</td>\n",
       "            <td>None</td>\n",
       "        </tr>\n",
       "        <tr>\n",
       "            <td>1</td>\n",
       "            <td>2015-01-01 23:35:33</td>\n",
       "            <td>9a8cc2b7162b99c0a0f501dc9a5ec4f68586a760</td>\n",
       "            <td>5ad49a7b408ce452140b180dd6efb57a9f4d22c7</td>\n",
       "            <td>george</td>\n",
       "            <td>US</td>\n",
       "            <td>site</td>\n",
       "            <td>DayZ</td>\n",
       "            <td>chunked</td>\n",
       "            <td>0</td>\n",
       "        </tr>\n",
       "        <tr>\n",
       "            <td>2</td>\n",
       "            <td>2015-01-01 04:39:38</td>\n",
       "            <td>2f9c3f9ee1033b71a3819564243f20ef3bec0183</td>\n",
       "            <td>5b9a43e68f019185f55615d0b83019dee4b5d06f</td>\n",
       "            <td>frank</td>\n",
       "            <td>US</td>\n",
       "            <td>site</td>\n",
       "            <td>League of Legends</td>\n",
       "            <td>chunked</td>\n",
       "            <td>0</td>\n",
       "        </tr>\n",
       "        <tr>\n",
       "            <td>3</td>\n",
       "            <td>2015-01-01 11:15:30</td>\n",
       "            <td>0cda8226ba2583424c80c3c1c22c1256b080ad17</td>\n",
       "            <td>02c7797faa4d8a3ff4b0c14ee1764b6817b53d0b</td>\n",
       "            <td>estelle</td>\n",
       "            <td>CH</td>\n",
       "            <td>site</td>\n",
       "            <td>Dota 2</td>\n",
       "            <td>high</td>\n",
       "            <td>0</td>\n",
       "        </tr>\n",
       "        <tr>\n",
       "            <td>4</td>\n",
       "            <td>2015-01-01 11:28:19</td>\n",
       "            <td>e3288ca5e3153aa85e32f64cdd994b7666968dcf</td>\n",
       "            <td>b920c228acbcbebee26d9c79f6eb73b73a9480c7</td>\n",
       "            <td>morty</td>\n",
       "            <td>FR</td>\n",
       "            <td>site</td>\n",
       "            <td>Heroes of the Storm</td>\n",
       "            <td>medium</td>\n",
       "            <td>0</td>\n",
       "        </tr>\n",
       "    </tbody>\n",
       "</table>"
      ],
      "text/plain": [
       "[(0, '2015-01-01 18:33:52', '40ffc2fa6534cf760becbdbf5311e31ad069e46e', '085c1eb7b587bfe654f0df7b4ba7f4fc4013636c', 'frank', 'US', 'iphone_t', 'League of Legends', None, None),\n",
       " (1, '2015-01-01 23:35:33', '9a8cc2b7162b99c0a0f501dc9a5ec4f68586a760', '5ad49a7b408ce452140b180dd6efb57a9f4d22c7', 'george', 'US', 'site', 'DayZ', 'chunked', 0),\n",
       " (2, '2015-01-01 04:39:38', '2f9c3f9ee1033b71a3819564243f20ef3bec0183', '5b9a43e68f019185f55615d0b83019dee4b5d06f', 'frank', 'US', 'site', 'League of Legends', 'chunked', 0),\n",
       " (3, '2015-01-01 11:15:30', '0cda8226ba2583424c80c3c1c22c1256b080ad17', '02c7797faa4d8a3ff4b0c14ee1764b6817b53d0b', 'estelle', 'CH', 'site', 'Dota 2', 'high', 0),\n",
       " (4, '2015-01-01 11:28:19', 'e3288ca5e3153aa85e32f64cdd994b7666968dcf', 'b920c228acbcbebee26d9c79f6eb73b73a9480c7', 'morty', 'FR', 'site', 'Heroes of the Storm', 'medium', 0)]"
      ]
     },
     "execution_count": 8,
     "metadata": {},
     "output_type": "execute_result"
    }
   ],
   "source": [
    "%%sql\n",
    "SELECT *\n",
    "FROM stream\n",
    "LIMIT 5"
   ]
  },
  {
   "cell_type": "markdown",
   "metadata": {},
   "source": [
    "## Stream data"
   ]
  },
  {
   "cell_type": "markdown",
   "metadata": {},
   "source": [
    "Almost all of the columns are the same except there are two extra columns:\n",
    "\n",
    "1. `stream_format` - this is the quality of the stream that is being sent to the user\n",
    "2. `subscriber` - this defines whether the user watching the stream is a subscriber to the channel they are watching.\n",
    "\n",
    "One subtle difference between the two datasets is that the `time` columns are in a slightly different format. In the `chat` dataset there are `/` characters, and in the `stream` dataset there are `-` characters. This may be important in time-series analysis later in the notebook."
   ]
  },
  {
   "cell_type": "markdown",
   "metadata": {},
   "source": [
    "The next two cells will show how many non-subscribers there are in the dataset vs how many subscribers there are."
   ]
  },
  {
   "cell_type": "markdown",
   "metadata": {},
   "source": [
    "# Subscribers vs non-subscribers"
   ]
  },
  {
   "cell_type": "markdown",
   "metadata": {},
   "source": [
    "As the `subscriber` feature only exists in the `stream` dataset, we will only be able to calculate this statistic for the `stream` data."
   ]
  },
  {
   "cell_type": "code",
   "execution_count": 9,
   "metadata": {},
   "outputs": [
    {
     "name": "stdout",
     "output_type": "stream",
     "text": [
      " * sqlite:///Twitch_data_analysis.db\n",
      "Done.\n"
     ]
    },
    {
     "data": {
      "text/html": [
       "<table>\n",
       "    <thead>\n",
       "        <tr>\n",
       "            <th>is_subscribed</th>\n",
       "        </tr>\n",
       "    </thead>\n",
       "    <tbody>\n",
       "        <tr>\n",
       "            <td>263845</td>\n",
       "        </tr>\n",
       "    </tbody>\n",
       "</table>"
      ],
      "text/plain": [
       "[(263845,)]"
      ]
     },
     "execution_count": 9,
     "metadata": {},
     "output_type": "execute_result"
    }
   ],
   "source": [
    "%%sql\n",
    "SELECT COUNT(subscriber) AS is_subscribed\n",
    "FROM stream\n",
    "WHERE subscriber = 0"
   ]
  },
  {
   "cell_type": "code",
   "execution_count": 10,
   "metadata": {},
   "outputs": [
    {
     "name": "stdout",
     "output_type": "stream",
     "text": [
      " * sqlite:///Twitch_data_analysis.db\n",
      "Done.\n"
     ]
    },
    {
     "data": {
      "text/html": [
       "<table>\n",
       "    <thead>\n",
       "        <tr>\n",
       "            <th>is_not_subscribed</th>\n",
       "        </tr>\n",
       "    </thead>\n",
       "    <tbody>\n",
       "        <tr>\n",
       "            <td>9969</td>\n",
       "        </tr>\n",
       "    </tbody>\n",
       "</table>"
      ],
      "text/plain": [
       "[(9969,)]"
      ]
     },
     "execution_count": 10,
     "metadata": {},
     "output_type": "execute_result"
    }
   ],
   "source": [
    "%%sql\n",
    "SELECT COUNT(subscriber) AS is_not_subscribed\n",
    "FROM stream\n",
    "WHERE subscriber = 1"
   ]
  },
  {
   "cell_type": "markdown",
   "metadata": {},
   "source": [
    "So in this the `stream` dataset, approximately **96%** of the users are not subscribers of the channel they are watching.\n",
    "\n",
    "It is not clear if this is a typical representation of the proportion of users who are not subscribed to the streams they view, or it is unique to this dataset due to the way it was collected, or some other reason.\n",
    "\n",
    "One possibility is the following: the dataset is outdated, and at the time of collection it was not as common to have a subscription."
   ]
  },
  {
   "cell_type": "markdown",
   "metadata": {},
   "source": [
    "# Distinct games"
   ]
  },
  {
   "cell_type": "code",
   "execution_count": 11,
   "metadata": {},
   "outputs": [
    {
     "name": "stdout",
     "output_type": "stream",
     "text": [
      " * sqlite:///Twitch_data_analysis.db\n",
      "Done.\n"
     ]
    },
    {
     "data": {
      "text/html": [
       "<table>\n",
       "    <thead>\n",
       "        <tr>\n",
       "            <th>game</th>\n",
       "        </tr>\n",
       "    </thead>\n",
       "    <tbody>\n",
       "        <tr>\n",
       "            <td>League of Legends</td>\n",
       "        </tr>\n",
       "        <tr>\n",
       "            <td>DayZ</td>\n",
       "        </tr>\n",
       "        <tr>\n",
       "            <td>Dota 2</td>\n",
       "        </tr>\n",
       "        <tr>\n",
       "            <td>Heroes of the Storm</td>\n",
       "        </tr>\n",
       "        <tr>\n",
       "            <td>Counter-Strike: Global Offensive</td>\n",
       "        </tr>\n",
       "        <tr>\n",
       "            <td>Hearthstone: Heroes of Warcraft</td>\n",
       "        </tr>\n",
       "        <tr>\n",
       "            <td>The Binding of Isaac: Rebirth</td>\n",
       "        </tr>\n",
       "        <tr>\n",
       "            <td>Agar.io</td>\n",
       "        </tr>\n",
       "        <tr>\n",
       "            <td>Gaming Talk Shows</td>\n",
       "        </tr>\n",
       "        <tr>\n",
       "            <td>None</td>\n",
       "        </tr>\n",
       "    </tbody>\n",
       "</table>"
      ],
      "text/plain": [
       "[('League of Legends',),\n",
       " ('DayZ',),\n",
       " ('Dota 2',),\n",
       " ('Heroes of the Storm',),\n",
       " ('Counter-Strike: Global Offensive',),\n",
       " ('Hearthstone: Heroes of Warcraft',),\n",
       " ('The Binding of Isaac: Rebirth',),\n",
       " ('Agar.io',),\n",
       " ('Gaming Talk Shows',),\n",
       " (None,)]"
      ]
     },
     "execution_count": 11,
     "metadata": {},
     "output_type": "execute_result"
    }
   ],
   "source": [
    "%%sql\n",
    "SELECT DISTINCT game\n",
    "FROM stream\n",
    "LIMIT 10"
   ]
  },
  {
   "cell_type": "markdown",
   "metadata": {},
   "source": [
    "# Distinct channels"
   ]
  },
  {
   "cell_type": "code",
   "execution_count": 12,
   "metadata": {},
   "outputs": [
    {
     "name": "stdout",
     "output_type": "stream",
     "text": [
      " * sqlite:///Twitch_data_analysis.db\n",
      "Done.\n"
     ]
    },
    {
     "data": {
      "text/html": [
       "<table>\n",
       "    <thead>\n",
       "        <tr>\n",
       "            <th>channel</th>\n",
       "        </tr>\n",
       "    </thead>\n",
       "    <tbody>\n",
       "        <tr>\n",
       "            <td>frank</td>\n",
       "        </tr>\n",
       "        <tr>\n",
       "            <td>george</td>\n",
       "        </tr>\n",
       "        <tr>\n",
       "            <td>estelle</td>\n",
       "        </tr>\n",
       "        <tr>\n",
       "            <td>morty</td>\n",
       "        </tr>\n",
       "        <tr>\n",
       "            <td>kramer</td>\n",
       "        </tr>\n",
       "        <tr>\n",
       "            <td>jerry</td>\n",
       "        </tr>\n",
       "        <tr>\n",
       "            <td>helen</td>\n",
       "        </tr>\n",
       "        <tr>\n",
       "            <td>newman</td>\n",
       "        </tr>\n",
       "        <tr>\n",
       "            <td>elaine</td>\n",
       "        </tr>\n",
       "        <tr>\n",
       "            <td>susan</td>\n",
       "        </tr>\n",
       "    </tbody>\n",
       "</table>"
      ],
      "text/plain": [
       "[('frank',),\n",
       " ('george',),\n",
       " ('estelle',),\n",
       " ('morty',),\n",
       " ('kramer',),\n",
       " ('jerry',),\n",
       " ('helen',),\n",
       " ('newman',),\n",
       " ('elaine',),\n",
       " ('susan',)]"
      ]
     },
     "execution_count": 12,
     "metadata": {},
     "output_type": "execute_result"
    }
   ],
   "source": [
    "%%sql\n",
    "SELECT DISTINCT channel\n",
    "FROM stream"
   ]
  },
  {
   "cell_type": "markdown",
   "metadata": {},
   "source": [
    "# The most popular games"
   ]
  },
  {
   "cell_type": "code",
   "execution_count": 13,
   "metadata": {},
   "outputs": [
    {
     "name": "stdout",
     "output_type": "stream",
     "text": [
      " * sqlite:///Twitch_data_analysis.db\n",
      "Done.\n"
     ]
    },
    {
     "data": {
      "text/html": [
       "<table>\n",
       "    <thead>\n",
       "        <tr>\n",
       "            <th>game</th>\n",
       "            <th>COUNT(*)</th>\n",
       "        </tr>\n",
       "    </thead>\n",
       "    <tbody>\n",
       "        <tr>\n",
       "            <td>League of Legends</td>\n",
       "            <td>193533</td>\n",
       "        </tr>\n",
       "        <tr>\n",
       "            <td>Dota 2</td>\n",
       "            <td>85608</td>\n",
       "        </tr>\n",
       "        <tr>\n",
       "            <td>Counter-Strike: Global Offensive</td>\n",
       "            <td>54438</td>\n",
       "        </tr>\n",
       "        <tr>\n",
       "            <td>DayZ</td>\n",
       "            <td>38004</td>\n",
       "        </tr>\n",
       "        <tr>\n",
       "            <td>Heroes of the Storm</td>\n",
       "            <td>35310</td>\n",
       "        </tr>\n",
       "        <tr>\n",
       "            <td>The Binding of Isaac: Rebirth</td>\n",
       "            <td>29467</td>\n",
       "        </tr>\n",
       "        <tr>\n",
       "            <td>Gaming Talk Shows</td>\n",
       "            <td>28115</td>\n",
       "        </tr>\n",
       "        <tr>\n",
       "            <td>World of Tanks</td>\n",
       "            <td>15932</td>\n",
       "        </tr>\n",
       "        <tr>\n",
       "            <td>Hearthstone: Heroes of Warcraft</td>\n",
       "            <td>14399</td>\n",
       "        </tr>\n",
       "        <tr>\n",
       "            <td>Agar.io</td>\n",
       "            <td>11480</td>\n",
       "        </tr>\n",
       "    </tbody>\n",
       "</table>"
      ],
      "text/plain": [
       "[('League of Legends', 193533),\n",
       " ('Dota 2', 85608),\n",
       " ('Counter-Strike: Global Offensive', 54438),\n",
       " ('DayZ', 38004),\n",
       " ('Heroes of the Storm', 35310),\n",
       " ('The Binding of Isaac: Rebirth', 29467),\n",
       " ('Gaming Talk Shows', 28115),\n",
       " ('World of Tanks', 15932),\n",
       " ('Hearthstone: Heroes of Warcraft', 14399),\n",
       " ('Agar.io', 11480)]"
      ]
     },
     "execution_count": 13,
     "metadata": {},
     "output_type": "execute_result"
    }
   ],
   "source": [
    "%%sql\n",
    "SELECT game, COUNT(*)\n",
    "FROM stream\n",
    "GROUP BY 1\n",
    "ORDER BY 2 DESC\n",
    "LIMIT 10"
   ]
  },
  {
   "cell_type": "code",
   "execution_count": 14,
   "metadata": {},
   "outputs": [
    {
     "name": "stdout",
     "output_type": "stream",
     "text": [
      " * sqlite:///Twitch_data_analysis.db\n",
      "Done.\n"
     ]
    },
    {
     "data": {
      "text/html": [
       "<table>\n",
       "    <thead>\n",
       "        <tr>\n",
       "            <th>game</th>\n",
       "            <th>COUNT(*)</th>\n",
       "        </tr>\n",
       "    </thead>\n",
       "    <tbody>\n",
       "        <tr>\n",
       "            <td>League of Legends</td>\n",
       "            <td>48066</td>\n",
       "        </tr>\n",
       "        <tr>\n",
       "            <td>Dota 2</td>\n",
       "            <td>26498</td>\n",
       "        </tr>\n",
       "        <tr>\n",
       "            <td>Gaming Talk Shows</td>\n",
       "            <td>15743</td>\n",
       "        </tr>\n",
       "        <tr>\n",
       "            <td>Counter-Strike: Global Offensive</td>\n",
       "            <td>10666</td>\n",
       "        </tr>\n",
       "        <tr>\n",
       "            <td>DayZ</td>\n",
       "            <td>10146</td>\n",
       "        </tr>\n",
       "        <tr>\n",
       "            <td>Hearthstone: Heroes of Warcraft</td>\n",
       "            <td>9840</td>\n",
       "        </tr>\n",
       "        <tr>\n",
       "            <td>Heroes of the Storm</td>\n",
       "            <td>8913</td>\n",
       "        </tr>\n",
       "        <tr>\n",
       "            <td>World of Tanks</td>\n",
       "            <td>6748</td>\n",
       "        </tr>\n",
       "        <tr>\n",
       "            <td>The Binding of Isaac: Rebirth</td>\n",
       "            <td>5532</td>\n",
       "        </tr>\n",
       "        <tr>\n",
       "            <td>Agar.io</td>\n",
       "            <td>2270</td>\n",
       "        </tr>\n",
       "    </tbody>\n",
       "</table>"
      ],
      "text/plain": [
       "[('League of Legends', 48066),\n",
       " ('Dota 2', 26498),\n",
       " ('Gaming Talk Shows', 15743),\n",
       " ('Counter-Strike: Global Offensive', 10666),\n",
       " ('DayZ', 10146),\n",
       " ('Hearthstone: Heroes of Warcraft', 9840),\n",
       " ('Heroes of the Storm', 8913),\n",
       " ('World of Tanks', 6748),\n",
       " ('The Binding of Isaac: Rebirth', 5532),\n",
       " ('Agar.io', 2270)]"
      ]
     },
     "execution_count": 14,
     "metadata": {},
     "output_type": "execute_result"
    }
   ],
   "source": [
    "%%sql\n",
    "SELECT game, COUNT(*)\n",
    "FROM chat\n",
    "GROUP BY 1\n",
    "ORDER BY 2 DESC\n",
    "LIMIT 10"
   ]
  },
  {
   "cell_type": "markdown",
   "metadata": {},
   "source": [
    "# Location of viewers"
   ]
  },
  {
   "cell_type": "markdown",
   "metadata": {},
   "source": [
    "## Most viewed games in each country"
   ]
  },
  {
   "cell_type": "code",
   "execution_count": 15,
   "metadata": {},
   "outputs": [
    {
     "name": "stdout",
     "output_type": "stream",
     "text": [
      " * sqlite:///Twitch_data_analysis.db\n",
      "Done.\n"
     ]
    },
    {
     "data": {
      "text/html": [
       "<table>\n",
       "    <thead>\n",
       "        <tr>\n",
       "            <th>country</th>\n",
       "            <th>game</th>\n",
       "            <th>COUNT(*)</th>\n",
       "        </tr>\n",
       "    </thead>\n",
       "    <tbody>\n",
       "        <tr>\n",
       "            <td>US</td>\n",
       "            <td>League of Legends</td>\n",
       "            <td>190378</td>\n",
       "        </tr>\n",
       "        <tr>\n",
       "            <td>RU</td>\n",
       "            <td>Dota 2</td>\n",
       "            <td>29807</td>\n",
       "        </tr>\n",
       "        <tr>\n",
       "            <td>TW</td>\n",
       "            <td>Gaming Talk Shows</td>\n",
       "            <td>29489</td>\n",
       "        </tr>\n",
       "        <tr>\n",
       "            <td>DE</td>\n",
       "            <td>League of Legends</td>\n",
       "            <td>29262</td>\n",
       "        </tr>\n",
       "        <tr>\n",
       "            <td>CA</td>\n",
       "            <td>League of Legends</td>\n",
       "            <td>27350</td>\n",
       "        </tr>\n",
       "        <tr>\n",
       "            <td>GB</td>\n",
       "            <td>Agar.io</td>\n",
       "            <td>22351</td>\n",
       "        </tr>\n",
       "        <tr>\n",
       "            <td>None</td>\n",
       "            <td>Heroes of the Storm</td>\n",
       "            <td>17164</td>\n",
       "        </tr>\n",
       "        <tr>\n",
       "            <td>SE</td>\n",
       "            <td>League of Legends</td>\n",
       "            <td>12648</td>\n",
       "        </tr>\n",
       "        <tr>\n",
       "            <td>PL</td>\n",
       "            <td>Counter-Strike: Global Offensive</td>\n",
       "            <td>10025</td>\n",
       "        </tr>\n",
       "        <tr>\n",
       "            <td>TR</td>\n",
       "            <td>Counter-Strike: Global Offensive</td>\n",
       "            <td>9313</td>\n",
       "        </tr>\n",
       "    </tbody>\n",
       "</table>"
      ],
      "text/plain": [
       "[('US', 'League of Legends', 190378),\n",
       " ('RU', 'Dota 2', 29807),\n",
       " ('TW', 'Gaming Talk Shows', 29489),\n",
       " ('DE', 'League of Legends', 29262),\n",
       " ('CA', 'League of Legends', 27350),\n",
       " ('GB', 'Agar.io', 22351),\n",
       " (None, 'Heroes of the Storm', 17164),\n",
       " ('SE', 'League of Legends', 12648),\n",
       " ('PL', 'Counter-Strike: Global Offensive', 10025),\n",
       " ('TR', 'Counter-Strike: Global Offensive', 9313)]"
      ]
     },
     "execution_count": 15,
     "metadata": {},
     "output_type": "execute_result"
    }
   ],
   "source": [
    "%%sql\n",
    "SELECT country, game, COUNT(*)\n",
    "FROM stream\n",
    "GROUP BY 1\n",
    "ORDER BY 3 DESC\n",
    "LIMIT 10"
   ]
  },
  {
   "cell_type": "code",
   "execution_count": 16,
   "metadata": {},
   "outputs": [
    {
     "name": "stdout",
     "output_type": "stream",
     "text": [
      " * sqlite:///Twitch_data_analysis.db\n",
      "Done.\n"
     ]
    },
    {
     "data": {
      "text/html": [
       "<table>\n",
       "    <thead>\n",
       "        <tr>\n",
       "            <th>country</th>\n",
       "            <th>game</th>\n",
       "            <th>COUNT(*)</th>\n",
       "        </tr>\n",
       "    </thead>\n",
       "    <tbody>\n",
       "        <tr>\n",
       "            <td>US</td>\n",
       "            <td>League of Legends</td>\n",
       "            <td>54049</td>\n",
       "        </tr>\n",
       "        <tr>\n",
       "            <td>TW</td>\n",
       "            <td>Gaming Talk Shows</td>\n",
       "            <td>16907</td>\n",
       "        </tr>\n",
       "        <tr>\n",
       "            <td>RU</td>\n",
       "            <td>Dota 2</td>\n",
       "            <td>8864</td>\n",
       "        </tr>\n",
       "        <tr>\n",
       "            <td>CA</td>\n",
       "            <td>League of Legends</td>\n",
       "            <td>6836</td>\n",
       "        </tr>\n",
       "        <tr>\n",
       "            <td>None</td>\n",
       "            <td>DayZ</td>\n",
       "            <td>5921</td>\n",
       "        </tr>\n",
       "        <tr>\n",
       "            <td>GB</td>\n",
       "            <td>League of Legends</td>\n",
       "            <td>4881</td>\n",
       "        </tr>\n",
       "        <tr>\n",
       "            <td>DE</td>\n",
       "            <td>Dota 2</td>\n",
       "            <td>4838</td>\n",
       "        </tr>\n",
       "        <tr>\n",
       "            <td>TR</td>\n",
       "            <td>Dota 2</td>\n",
       "            <td>2619</td>\n",
       "        </tr>\n",
       "        <tr>\n",
       "            <td>AU</td>\n",
       "            <td>Rocket League</td>\n",
       "            <td>2137</td>\n",
       "        </tr>\n",
       "        <tr>\n",
       "            <td>PE</td>\n",
       "            <td>Dota 2</td>\n",
       "            <td>2099</td>\n",
       "        </tr>\n",
       "    </tbody>\n",
       "</table>"
      ],
      "text/plain": [
       "[('US', 'League of Legends', 54049),\n",
       " ('TW', 'Gaming Talk Shows', 16907),\n",
       " ('RU', 'Dota 2', 8864),\n",
       " ('CA', 'League of Legends', 6836),\n",
       " (None, 'DayZ', 5921),\n",
       " ('GB', 'League of Legends', 4881),\n",
       " ('DE', 'Dota 2', 4838),\n",
       " ('TR', 'Dota 2', 2619),\n",
       " ('AU', 'Rocket League', 2137),\n",
       " ('PE', 'Dota 2', 2099)]"
      ]
     },
     "execution_count": 16,
     "metadata": {},
     "output_type": "execute_result"
    }
   ],
   "source": [
    "%%sql\n",
    "SELECT country, game, COUNT(*)\n",
    "FROM chat\n",
    "GROUP BY 1\n",
    "ORDER BY 3 DESC\n",
    "LIMIT 10"
   ]
  },
  {
   "cell_type": "markdown",
   "metadata": {},
   "source": [
    "## Breakdown of location of viewers for most popular game"
   ]
  },
  {
   "cell_type": "code",
   "execution_count": 17,
   "metadata": {},
   "outputs": [
    {
     "name": "stdout",
     "output_type": "stream",
     "text": [
      " * sqlite:///Twitch_data_analysis.db\n",
      "Done.\n"
     ]
    },
    {
     "data": {
      "text/html": [
       "<table>\n",
       "    <thead>\n",
       "        <tr>\n",
       "            <th>country</th>\n",
       "            <th>game</th>\n",
       "            <th>COUNT(*)</th>\n",
       "        </tr>\n",
       "    </thead>\n",
       "    <tbody>\n",
       "        <tr>\n",
       "            <td>US</td>\n",
       "            <td>League of Legends</td>\n",
       "            <td>85606</td>\n",
       "        </tr>\n",
       "        <tr>\n",
       "            <td>CA</td>\n",
       "            <td>League of Legends</td>\n",
       "            <td>13034</td>\n",
       "        </tr>\n",
       "        <tr>\n",
       "            <td>DE</td>\n",
       "            <td>League of Legends</td>\n",
       "            <td>10835</td>\n",
       "        </tr>\n",
       "        <tr>\n",
       "            <td>None</td>\n",
       "            <td>League of Legends</td>\n",
       "            <td>7641</td>\n",
       "        </tr>\n",
       "        <tr>\n",
       "            <td>GB</td>\n",
       "            <td>League of Legends</td>\n",
       "            <td>6964</td>\n",
       "        </tr>\n",
       "        <tr>\n",
       "            <td>TR</td>\n",
       "            <td>League of Legends</td>\n",
       "            <td>4412</td>\n",
       "        </tr>\n",
       "        <tr>\n",
       "            <td>AU</td>\n",
       "            <td>League of Legends</td>\n",
       "            <td>3911</td>\n",
       "        </tr>\n",
       "        <tr>\n",
       "            <td>SE</td>\n",
       "            <td>League of Legends</td>\n",
       "            <td>3533</td>\n",
       "        </tr>\n",
       "        <tr>\n",
       "            <td>NL</td>\n",
       "            <td>League of Legends</td>\n",
       "            <td>3213</td>\n",
       "        </tr>\n",
       "        <tr>\n",
       "            <td>DK</td>\n",
       "            <td>League of Legends</td>\n",
       "            <td>2909</td>\n",
       "        </tr>\n",
       "    </tbody>\n",
       "</table>"
      ],
      "text/plain": [
       "[('US', 'League of Legends', 85606),\n",
       " ('CA', 'League of Legends', 13034),\n",
       " ('DE', 'League of Legends', 10835),\n",
       " (None, 'League of Legends', 7641),\n",
       " ('GB', 'League of Legends', 6964),\n",
       " ('TR', 'League of Legends', 4412),\n",
       " ('AU', 'League of Legends', 3911),\n",
       " ('SE', 'League of Legends', 3533),\n",
       " ('NL', 'League of Legends', 3213),\n",
       " ('DK', 'League of Legends', 2909)]"
      ]
     },
     "execution_count": 17,
     "metadata": {},
     "output_type": "execute_result"
    }
   ],
   "source": [
    "%%sql\n",
    "SELECT country, game, COUNT(*)\n",
    "FROM stream\n",
    "WHERE game = 'League of Legends'\n",
    "GROUP BY 1\n",
    "ORDER BY 3 DESC\n",
    "LIMIT 10"
   ]
  },
  {
   "cell_type": "code",
   "execution_count": 18,
   "metadata": {},
   "outputs": [
    {
     "name": "stdout",
     "output_type": "stream",
     "text": [
      " * sqlite:///Twitch_data_analysis.db\n",
      "Done.\n"
     ]
    },
    {
     "data": {
      "text/html": [
       "<table>\n",
       "    <thead>\n",
       "        <tr>\n",
       "            <th>country</th>\n",
       "            <th>game</th>\n",
       "            <th>COUNT(*)</th>\n",
       "        </tr>\n",
       "    </thead>\n",
       "    <tbody>\n",
       "        <tr>\n",
       "            <td>US</td>\n",
       "            <td>League of Legends</td>\n",
       "            <td>26261</td>\n",
       "        </tr>\n",
       "        <tr>\n",
       "            <td>CA</td>\n",
       "            <td>League of Legends</td>\n",
       "            <td>2658</td>\n",
       "        </tr>\n",
       "        <tr>\n",
       "            <td>None</td>\n",
       "            <td>League of Legends</td>\n",
       "            <td>2027</td>\n",
       "        </tr>\n",
       "        <tr>\n",
       "            <td>DE</td>\n",
       "            <td>League of Legends</td>\n",
       "            <td>1702</td>\n",
       "        </tr>\n",
       "        <tr>\n",
       "            <td>AU</td>\n",
       "            <td>League of Legends</td>\n",
       "            <td>1300</td>\n",
       "        </tr>\n",
       "        <tr>\n",
       "            <td>GB</td>\n",
       "            <td>League of Legends</td>\n",
       "            <td>1116</td>\n",
       "        </tr>\n",
       "        <tr>\n",
       "            <td>TR</td>\n",
       "            <td>League of Legends</td>\n",
       "            <td>992</td>\n",
       "        </tr>\n",
       "        <tr>\n",
       "            <td>NL</td>\n",
       "            <td>League of Legends</td>\n",
       "            <td>801</td>\n",
       "        </tr>\n",
       "        <tr>\n",
       "            <td>NO</td>\n",
       "            <td>League of Legends</td>\n",
       "            <td>583</td>\n",
       "        </tr>\n",
       "        <tr>\n",
       "            <td>PT</td>\n",
       "            <td>League of Legends</td>\n",
       "            <td>537</td>\n",
       "        </tr>\n",
       "    </tbody>\n",
       "</table>"
      ],
      "text/plain": [
       "[('US', 'League of Legends', 26261),\n",
       " ('CA', 'League of Legends', 2658),\n",
       " (None, 'League of Legends', 2027),\n",
       " ('DE', 'League of Legends', 1702),\n",
       " ('AU', 'League of Legends', 1300),\n",
       " ('GB', 'League of Legends', 1116),\n",
       " ('TR', 'League of Legends', 992),\n",
       " ('NL', 'League of Legends', 801),\n",
       " ('NO', 'League of Legends', 583),\n",
       " ('PT', 'League of Legends', 537)]"
      ]
     },
     "execution_count": 18,
     "metadata": {},
     "output_type": "execute_result"
    }
   ],
   "source": [
    "%%sql\n",
    "SELECT country, game, COUNT(*)\n",
    "FROM chat\n",
    "WHERE game = 'League of Legends'\n",
    "GROUP BY 1\n",
    "ORDER BY 3 DESC\n",
    "LIMIT 10"
   ]
  },
  {
   "cell_type": "markdown",
   "metadata": {},
   "source": [
    "# The most popular ways to stream"
   ]
  },
  {
   "cell_type": "code",
   "execution_count": 19,
   "metadata": {},
   "outputs": [
    {
     "name": "stdout",
     "output_type": "stream",
     "text": [
      " * sqlite:///Twitch_data_analysis.db\n",
      "Done.\n"
     ]
    },
    {
     "data": {
      "text/html": [
       "<table>\n",
       "    <thead>\n",
       "        <tr>\n",
       "            <th>player</th>\n",
       "            <th>COUNT(*)</th>\n",
       "        </tr>\n",
       "    </thead>\n",
       "    <tbody>\n",
       "        <tr>\n",
       "            <td>site</td>\n",
       "            <td>246115</td>\n",
       "        </tr>\n",
       "        <tr>\n",
       "            <td>iphone_t</td>\n",
       "            <td>100689</td>\n",
       "        </tr>\n",
       "        <tr>\n",
       "            <td>android</td>\n",
       "            <td>93508</td>\n",
       "        </tr>\n",
       "        <tr>\n",
       "            <td>ipad_t</td>\n",
       "            <td>53646</td>\n",
       "        </tr>\n",
       "        <tr>\n",
       "            <td>embed</td>\n",
       "            <td>19819</td>\n",
       "        </tr>\n",
       "        <tr>\n",
       "            <td>xbox_one</td>\n",
       "            <td>4863</td>\n",
       "        </tr>\n",
       "        <tr>\n",
       "            <td>home</td>\n",
       "            <td>3479</td>\n",
       "        </tr>\n",
       "        <tr>\n",
       "            <td>frontpage</td>\n",
       "            <td>1567</td>\n",
       "        </tr>\n",
       "        <tr>\n",
       "            <td>amazon</td>\n",
       "            <td>1155</td>\n",
       "        </tr>\n",
       "        <tr>\n",
       "            <td>xbox360</td>\n",
       "            <td>985</td>\n",
       "        </tr>\n",
       "    </tbody>\n",
       "</table>"
      ],
      "text/plain": [
       "[('site', 246115),\n",
       " ('iphone_t', 100689),\n",
       " ('android', 93508),\n",
       " ('ipad_t', 53646),\n",
       " ('embed', 19819),\n",
       " ('xbox_one', 4863),\n",
       " ('home', 3479),\n",
       " ('frontpage', 1567),\n",
       " ('amazon', 1155),\n",
       " ('xbox360', 985)]"
      ]
     },
     "execution_count": 19,
     "metadata": {},
     "output_type": "execute_result"
    }
   ],
   "source": [
    "%%sql\n",
    "SELECT player, COUNT(*)\n",
    "FROM stream\n",
    "GROUP BY 1\n",
    "ORDER BY 2 DESC\n",
    "LIMIT 10"
   ]
  },
  {
   "cell_type": "markdown",
   "metadata": {},
   "source": [
    "# The most popular genres"
   ]
  },
  {
   "cell_type": "code",
   "execution_count": 20,
   "metadata": {
    "scrolled": true
   },
   "outputs": [
    {
     "name": "stdout",
     "output_type": "stream",
     "text": [
      " * sqlite:///Twitch_data_analysis.db\n",
      "Done.\n"
     ]
    },
    {
     "data": {
      "text/html": [
       "<table>\n",
       "    <thead>\n",
       "        <tr>\n",
       "            <th>game</th>\n",
       "            <th>genre</th>\n",
       "            <th>COUNT(*)</th>\n",
       "        </tr>\n",
       "    </thead>\n",
       "    <tbody>\n",
       "        <tr>\n",
       "            <td>League of Legends</td>\n",
       "            <td>MOBA</td>\n",
       "            <td>193533</td>\n",
       "        </tr>\n",
       "        <tr>\n",
       "            <td>Dota 2</td>\n",
       "            <td>MOBA</td>\n",
       "            <td>85608</td>\n",
       "        </tr>\n",
       "        <tr>\n",
       "            <td>Counter-Strike: Global Offensive</td>\n",
       "            <td>FPS</td>\n",
       "            <td>54438</td>\n",
       "        </tr>\n",
       "        <tr>\n",
       "            <td>DayZ</td>\n",
       "            <td>Survival</td>\n",
       "            <td>38004</td>\n",
       "        </tr>\n",
       "        <tr>\n",
       "            <td>Heroes of the Storm</td>\n",
       "            <td>MOBA</td>\n",
       "            <td>35310</td>\n",
       "        </tr>\n",
       "        <tr>\n",
       "            <td>The Binding of Isaac: Rebirth</td>\n",
       "            <td>Other</td>\n",
       "            <td>29467</td>\n",
       "        </tr>\n",
       "        <tr>\n",
       "            <td>Gaming Talk Shows</td>\n",
       "            <td>Other</td>\n",
       "            <td>28115</td>\n",
       "        </tr>\n",
       "        <tr>\n",
       "            <td>World of Tanks</td>\n",
       "            <td>Other</td>\n",
       "            <td>15932</td>\n",
       "        </tr>\n",
       "        <tr>\n",
       "            <td>Hearthstone: Heroes of Warcraft</td>\n",
       "            <td>Other</td>\n",
       "            <td>14399</td>\n",
       "        </tr>\n",
       "        <tr>\n",
       "            <td>Agar.io</td>\n",
       "            <td>Other</td>\n",
       "            <td>11480</td>\n",
       "        </tr>\n",
       "    </tbody>\n",
       "</table>"
      ],
      "text/plain": [
       "[('League of Legends', 'MOBA', 193533),\n",
       " ('Dota 2', 'MOBA', 85608),\n",
       " ('Counter-Strike: Global Offensive', 'FPS', 54438),\n",
       " ('DayZ', 'Survival', 38004),\n",
       " ('Heroes of the Storm', 'MOBA', 35310),\n",
       " ('The Binding of Isaac: Rebirth', 'Other', 29467),\n",
       " ('Gaming Talk Shows', 'Other', 28115),\n",
       " ('World of Tanks', 'Other', 15932),\n",
       " ('Hearthstone: Heroes of Warcraft', 'Other', 14399),\n",
       " ('Agar.io', 'Other', 11480)]"
      ]
     },
     "execution_count": 20,
     "metadata": {},
     "output_type": "execute_result"
    }
   ],
   "source": [
    "%%sql\n",
    "SELECT DISTINCT game,\n",
    "    CASE\n",
    "        WHEN game = 'League of Legends' THEN 'MOBA'\n",
    "        WHEN game = 'Dota 2' THEN 'MOBA'\n",
    "        WHEN game = 'Heroes of the Storm' THEN 'MOBA'\n",
    "        WHEN game = 'Counter-Strike: Global Offensive' THEN 'FPS'\n",
    "        WHEN game = 'DayZ' THEN 'Survival'\n",
    "        WHEN game = 'Survival Evolved' THEN 'Survival'\n",
    "        ELSE 'Other'\n",
    "        END AS 'genre',\n",
    "        COUNT(*)\n",
    "FROM stream\n",
    "GROUP BY 1\n",
    "ORDER BY 3 DESC\n",
    "LIMIT 10"
   ]
  },
  {
   "cell_type": "markdown",
   "metadata": {},
   "source": [
    "# Time-series analysis - most active times of day"
   ]
  },
  {
   "cell_type": "markdown",
   "metadata": {},
   "source": [
    "## Aggregating using SQL"
   ]
  },
  {
   "cell_type": "markdown",
   "metadata": {},
   "source": [
    "First, the `stream` table. We will round each time in the `time` column to the hour and count the number of views for each hour:"
   ]
  },
  {
   "cell_type": "code",
   "execution_count": 21,
   "metadata": {},
   "outputs": [
    {
     "name": "stdout",
     "output_type": "stream",
     "text": [
      " * sqlite:///Twitch_data_analysis.db\n",
      "Done.\n"
     ]
    },
    {
     "data": {
      "text/html": [
       "<table>\n",
       "    <thead>\n",
       "        <tr>\n",
       "            <th>time</th>\n",
       "            <th>hour_of_day</th>\n",
       "            <th>number_of_viewers</th>\n",
       "        </tr>\n",
       "    </thead>\n",
       "    <tbody>\n",
       "        <tr>\n",
       "            <td>2015-01-01 01:52:07</td>\n",
       "            <td>01</td>\n",
       "            <td>91</td>\n",
       "        </tr>\n",
       "        <tr>\n",
       "            <td>2015-01-01 01:52:08</td>\n",
       "            <td>01</td>\n",
       "            <td>82</td>\n",
       "        </tr>\n",
       "        <tr>\n",
       "            <td>2015-01-01 01:52:06</td>\n",
       "            <td>01</td>\n",
       "            <td>75</td>\n",
       "        </tr>\n",
       "        <tr>\n",
       "            <td>2015-01-01 01:52:05</td>\n",
       "            <td>01</td>\n",
       "            <td>63</td>\n",
       "        </tr>\n",
       "        <tr>\n",
       "            <td>2015-01-01 01:52:09</td>\n",
       "            <td>01</td>\n",
       "            <td>60</td>\n",
       "        </tr>\n",
       "        <tr>\n",
       "            <td>2015-01-01 14:52:02</td>\n",
       "            <td>14</td>\n",
       "            <td>48</td>\n",
       "        </tr>\n",
       "        <tr>\n",
       "            <td>2015-01-01 20:01:29</td>\n",
       "            <td>20</td>\n",
       "            <td>38</td>\n",
       "        </tr>\n",
       "        <tr>\n",
       "            <td>2015-01-01 07:11:31</td>\n",
       "            <td>07</td>\n",
       "            <td>38</td>\n",
       "        </tr>\n",
       "        <tr>\n",
       "            <td>2015-01-01 01:52:10</td>\n",
       "            <td>01</td>\n",
       "            <td>38</td>\n",
       "        </tr>\n",
       "        <tr>\n",
       "            <td>2015-01-01 14:52:04</td>\n",
       "            <td>14</td>\n",
       "            <td>37</td>\n",
       "        </tr>\n",
       "    </tbody>\n",
       "</table>"
      ],
      "text/plain": [
       "[('2015-01-01 01:52:07', '01', 91),\n",
       " ('2015-01-01 01:52:08', '01', 82),\n",
       " ('2015-01-01 01:52:06', '01', 75),\n",
       " ('2015-01-01 01:52:05', '01', 63),\n",
       " ('2015-01-01 01:52:09', '01', 60),\n",
       " ('2015-01-01 14:52:02', '14', 48),\n",
       " ('2015-01-01 20:01:29', '20', 38),\n",
       " ('2015-01-01 07:11:31', '07', 38),\n",
       " ('2015-01-01 01:52:10', '01', 38),\n",
       " ('2015-01-01 14:52:04', '14', 37)]"
      ]
     },
     "execution_count": 21,
     "metadata": {},
     "output_type": "execute_result"
    }
   ],
   "source": [
    "%%sql\n",
    "SELECT time, strftime('%H', time) AS hour_of_day, COUNT(device_id) AS number_of_viewers\n",
    "FROM stream\n",
    "GROUP BY 1\n",
    "ORDER BY 3 DESC\n",
    "LIMIT 10"
   ]
  },
  {
   "cell_type": "code",
   "execution_count": 22,
   "metadata": {},
   "outputs": [
    {
     "name": "stdout",
     "output_type": "stream",
     "text": [
      " * sqlite:///Twitch_data_analysis.db\n",
      "Done.\n"
     ]
    },
    {
     "data": {
      "text/html": [
       "<table>\n",
       "    <thead>\n",
       "        <tr>\n",
       "            <th>time</th>\n",
       "            <th>hour_of_day</th>\n",
       "            <th>number_of_viewers</th>\n",
       "        </tr>\n",
       "    </thead>\n",
       "    <tbody>\n",
       "        <tr>\n",
       "            <td>2015-01-01 00:18:33</td>\n",
       "            <td>00</td>\n",
       "            <td>15411</td>\n",
       "        </tr>\n",
       "        <tr>\n",
       "            <td>2015-01-01 01:32:54</td>\n",
       "            <td>01</td>\n",
       "            <td>14407</td>\n",
       "        </tr>\n",
       "        <tr>\n",
       "            <td>2015-01-01 02:12:40</td>\n",
       "            <td>02</td>\n",
       "            <td>24137</td>\n",
       "        </tr>\n",
       "        <tr>\n",
       "            <td>2015-01-01 03:49:36</td>\n",
       "            <td>03</td>\n",
       "            <td>16205</td>\n",
       "        </tr>\n",
       "        <tr>\n",
       "            <td>2015-01-01 04:39:38</td>\n",
       "            <td>04</td>\n",
       "            <td>15098</td>\n",
       "        </tr>\n",
       "        <tr>\n",
       "            <td>2015-01-01 05:18:54</td>\n",
       "            <td>05</td>\n",
       "            <td>6265</td>\n",
       "        </tr>\n",
       "        <tr>\n",
       "            <td>2015-01-01 06:44:12</td>\n",
       "            <td>06</td>\n",
       "            <td>1483</td>\n",
       "        </tr>\n",
       "        <tr>\n",
       "            <td>2015-01-01 07:11:43</td>\n",
       "            <td>07</td>\n",
       "            <td>8505</td>\n",
       "        </tr>\n",
       "        <tr>\n",
       "            <td>2015-01-01 08:53:36</td>\n",
       "            <td>08</td>\n",
       "            <td>11222</td>\n",
       "        </tr>\n",
       "        <tr>\n",
       "            <td>2015-01-01 09:54:40</td>\n",
       "            <td>09</td>\n",
       "            <td>9863</td>\n",
       "        </tr>\n",
       "    </tbody>\n",
       "</table>"
      ],
      "text/plain": [
       "[('2015-01-01 00:18:33', '00', 15411),\n",
       " ('2015-01-01 01:32:54', '01', 14407),\n",
       " ('2015-01-01 02:12:40', '02', 24137),\n",
       " ('2015-01-01 03:49:36', '03', 16205),\n",
       " ('2015-01-01 04:39:38', '04', 15098),\n",
       " ('2015-01-01 05:18:54', '05', 6265),\n",
       " ('2015-01-01 06:44:12', '06', 1483),\n",
       " ('2015-01-01 07:11:43', '07', 8505),\n",
       " ('2015-01-01 08:53:36', '08', 11222),\n",
       " ('2015-01-01 09:54:40', '09', 9863)]"
      ]
     },
     "execution_count": 22,
     "metadata": {},
     "output_type": "execute_result"
    }
   ],
   "source": [
    "%%sql\n",
    "SELECT time, strftime(\"%H\", time) AS hour_of_day, COUNT(device_id) AS number_of_viewers\n",
    "FROM stream\n",
    "GROUP BY 2\n",
    "ORDER BY 2 ASC\n",
    "LIMIT 10"
   ]
  },
  {
   "cell_type": "markdown",
   "metadata": {},
   "source": [
    "Next, the `chat` table. Doing the same as for the `stream` table:"
   ]
  },
  {
   "cell_type": "code",
   "execution_count": 23,
   "metadata": {},
   "outputs": [
    {
     "name": "stdout",
     "output_type": "stream",
     "text": [
      " * sqlite:///Twitch_data_analysis.db\n",
      "Done.\n"
     ]
    },
    {
     "data": {
      "text/html": [
       "<table>\n",
       "    <thead>\n",
       "        <tr>\n",
       "            <th>time</th>\n",
       "            <th>hour_of_day</th>\n",
       "            <th>number_of_viewers</th>\n",
       "        </tr>\n",
       "    </thead>\n",
       "    <tbody>\n",
       "        <tr>\n",
       "            <td>01/01/2015 18:45</td>\n",
       "            <td>None</td>\n",
       "            <td>148560</td>\n",
       "        </tr>\n",
       "    </tbody>\n",
       "</table>"
      ],
      "text/plain": [
       "[('01/01/2015 18:45', None, 148560)]"
      ]
     },
     "execution_count": 23,
     "metadata": {},
     "output_type": "execute_result"
    }
   ],
   "source": [
    "%%sql\n",
    "SELECT time, strftime(\"%H\", time) AS hour_of_day, COUNT(device_id) AS number_of_viewers\n",
    "FROM chat\n",
    "GROUP BY 2\n",
    "ORDER BY 2"
   ]
  },
  {
   "cell_type": "markdown",
   "metadata": {},
   "source": [
    "Here, the previous query does not work as the `time` column is in the wrong format (i.e. it contains the `/` character).\n",
    "\n",
    "To fix this, we can save a query into a Pandas DataFrame, replace the `/` with `-`, and then perform the aggregation."
   ]
  },
  {
   "cell_type": "markdown",
   "metadata": {},
   "source": [
    "### Changing the `time` format in the `chat` table"
   ]
  },
  {
   "cell_type": "code",
   "execution_count": 24,
   "metadata": {},
   "outputs": [
    {
     "data": {
      "text/html": [
       "<div>\n",
       "<style scoped>\n",
       "    .dataframe tbody tr th:only-of-type {\n",
       "        vertical-align: middle;\n",
       "    }\n",
       "\n",
       "    .dataframe tbody tr th {\n",
       "        vertical-align: top;\n",
       "    }\n",
       "\n",
       "    .dataframe thead th {\n",
       "        text-align: right;\n",
       "    }\n",
       "</style>\n",
       "<table border=\"1\" class=\"dataframe\">\n",
       "  <thead>\n",
       "    <tr style=\"text-align: right;\">\n",
       "      <th></th>\n",
       "      <th>time</th>\n",
       "      <th>number_of_viewers</th>\n",
       "    </tr>\n",
       "  </thead>\n",
       "  <tbody>\n",
       "    <tr>\n",
       "      <th>0</th>\n",
       "      <td>01/01/2015 00:00</td>\n",
       "      <td>57</td>\n",
       "    </tr>\n",
       "    <tr>\n",
       "      <th>1</th>\n",
       "      <td>01/01/2015 00:01</td>\n",
       "      <td>147</td>\n",
       "    </tr>\n",
       "    <tr>\n",
       "      <th>2</th>\n",
       "      <td>01/01/2015 00:02</td>\n",
       "      <td>67</td>\n",
       "    </tr>\n",
       "    <tr>\n",
       "      <th>3</th>\n",
       "      <td>01/01/2015 00:03</td>\n",
       "      <td>47</td>\n",
       "    </tr>\n",
       "    <tr>\n",
       "      <th>4</th>\n",
       "      <td>01/01/2015 00:04</td>\n",
       "      <td>53</td>\n",
       "    </tr>\n",
       "  </tbody>\n",
       "</table>\n",
       "</div>"
      ],
      "text/plain": [
       "               time  number_of_viewers\n",
       "0  01/01/2015 00:00                 57\n",
       "1  01/01/2015 00:01                147\n",
       "2  01/01/2015 00:02                 67\n",
       "3  01/01/2015 00:03                 47\n",
       "4  01/01/2015 00:04                 53"
      ]
     },
     "execution_count": 24,
     "metadata": {},
     "output_type": "execute_result"
    }
   ],
   "source": [
    "views_by_time_df = pd.read_sql(\"\"\"\n",
    "                               SELECT time, COUNT(device_id) AS number_of_viewers\n",
    "                               FROM chat\n",
    "                               GROUP BY time\n",
    "                               \"\"\", con=conn)\n",
    "\n",
    "views_by_time_df.head()"
   ]
  },
  {
   "cell_type": "code",
   "execution_count": 25,
   "metadata": {},
   "outputs": [
    {
     "name": "stderr",
     "output_type": "stream",
     "text": [
      "C:\\Users\\Stewa\\Documents\\Miniconda\\lib\\site-packages\\ipykernel_launcher.py:2: SettingWithCopyWarning: \n",
      "A value is trying to be set on a copy of a slice from a DataFrame\n",
      "\n",
      "See the caveats in the documentation: https://pandas.pydata.org/pandas-docs/stable/user_guide/indexing.html#returning-a-view-versus-a-copy\n",
      "  \n",
      "C:\\Users\\Stewa\\Documents\\Miniconda\\lib\\site-packages\\ipykernel_launcher.py:3: SettingWithCopyWarning: \n",
      "A value is trying to be set on a copy of a slice from a DataFrame\n",
      "\n",
      "See the caveats in the documentation: https://pandas.pydata.org/pandas-docs/stable/user_guide/indexing.html#returning-a-view-versus-a-copy\n",
      "  This is separate from the ipykernel package so we can avoid doing imports until\n"
     ]
    }
   ],
   "source": [
    "for i in range(len(views_by_time_df)):\n",
    "    views_by_time_df['time'][i] = views_by_time_df['time'][i].replace(\"/\", \"-\")\n",
    "    views_by_time_df['time'][i] = datetime.strptime(views_by_time_df['time'][i], \"%d-%m-%Y %H:%M\")"
   ]
  },
  {
   "cell_type": "code",
   "execution_count": 26,
   "metadata": {},
   "outputs": [
    {
     "data": {
      "text/html": [
       "<div>\n",
       "<style scoped>\n",
       "    .dataframe tbody tr th:only-of-type {\n",
       "        vertical-align: middle;\n",
       "    }\n",
       "\n",
       "    .dataframe tbody tr th {\n",
       "        vertical-align: top;\n",
       "    }\n",
       "\n",
       "    .dataframe thead th {\n",
       "        text-align: right;\n",
       "    }\n",
       "</style>\n",
       "<table border=\"1\" class=\"dataframe\">\n",
       "  <thead>\n",
       "    <tr style=\"text-align: right;\">\n",
       "      <th></th>\n",
       "      <th>time</th>\n",
       "      <th>number_of_viewers</th>\n",
       "    </tr>\n",
       "  </thead>\n",
       "  <tbody>\n",
       "    <tr>\n",
       "      <th>0</th>\n",
       "      <td>2015-01-01 00:00:00</td>\n",
       "      <td>57</td>\n",
       "    </tr>\n",
       "    <tr>\n",
       "      <th>1</th>\n",
       "      <td>2015-01-01 00:01:00</td>\n",
       "      <td>147</td>\n",
       "    </tr>\n",
       "    <tr>\n",
       "      <th>2</th>\n",
       "      <td>2015-01-01 00:02:00</td>\n",
       "      <td>67</td>\n",
       "    </tr>\n",
       "    <tr>\n",
       "      <th>3</th>\n",
       "      <td>2015-01-01 00:03:00</td>\n",
       "      <td>47</td>\n",
       "    </tr>\n",
       "    <tr>\n",
       "      <th>4</th>\n",
       "      <td>2015-01-01 00:04:00</td>\n",
       "      <td>53</td>\n",
       "    </tr>\n",
       "  </tbody>\n",
       "</table>\n",
       "</div>"
      ],
      "text/plain": [
       "                  time  number_of_viewers\n",
       "0  2015-01-01 00:00:00                 57\n",
       "1  2015-01-01 00:01:00                147\n",
       "2  2015-01-01 00:02:00                 67\n",
       "3  2015-01-01 00:03:00                 47\n",
       "4  2015-01-01 00:04:00                 53"
      ]
     },
     "execution_count": 26,
     "metadata": {},
     "output_type": "execute_result"
    }
   ],
   "source": [
    "views_by_time_df.head()"
   ]
  },
  {
   "cell_type": "code",
   "execution_count": 27,
   "metadata": {},
   "outputs": [],
   "source": [
    "# Converting this DataFrame back to SQL for aggregation\n",
    "views_by_time_tbl = views_by_time_df.to_sql('views_by_time_tbl', conn)"
   ]
  },
  {
   "cell_type": "markdown",
   "metadata": {},
   "source": [
    "Now repeating the failed query:"
   ]
  },
  {
   "cell_type": "code",
   "execution_count": 28,
   "metadata": {},
   "outputs": [
    {
     "name": "stdout",
     "output_type": "stream",
     "text": [
      " * sqlite:///Twitch_data_analysis.db\n",
      "Done.\n"
     ]
    },
    {
     "data": {
      "text/html": [
       "<table>\n",
       "    <thead>\n",
       "        <tr>\n",
       "            <th>time</th>\n",
       "            <th>hour_of_day</th>\n",
       "            <th>number_of_viewers</th>\n",
       "        </tr>\n",
       "    </thead>\n",
       "    <tbody>\n",
       "        <tr>\n",
       "            <td>2015-01-01 00:00:00</td>\n",
       "            <td>00</td>\n",
       "            <td>2789</td>\n",
       "        </tr>\n",
       "        <tr>\n",
       "            <td>2015-01-01 01:00:00</td>\n",
       "            <td>01</td>\n",
       "            <td>2852</td>\n",
       "        </tr>\n",
       "        <tr>\n",
       "            <td>2015-01-01 02:00:00</td>\n",
       "            <td>02</td>\n",
       "            <td>5206</td>\n",
       "        </tr>\n",
       "        <tr>\n",
       "            <td>2015-01-01 03:00:00</td>\n",
       "            <td>03</td>\n",
       "            <td>7939</td>\n",
       "        </tr>\n",
       "        <tr>\n",
       "            <td>2015-01-01 04:00:00</td>\n",
       "            <td>04</td>\n",
       "            <td>8260</td>\n",
       "        </tr>\n",
       "        <tr>\n",
       "            <td>2015-01-01 05:00:00</td>\n",
       "            <td>05</td>\n",
       "            <td>1347</td>\n",
       "        </tr>\n",
       "        <tr>\n",
       "            <td>2015-01-01 06:00:00</td>\n",
       "            <td>06</td>\n",
       "            <td>954</td>\n",
       "        </tr>\n",
       "        <tr>\n",
       "            <td>2015-01-01 07:00:00</td>\n",
       "            <td>07</td>\n",
       "            <td>2004</td>\n",
       "        </tr>\n",
       "        <tr>\n",
       "            <td>2015-01-01 08:00:00</td>\n",
       "            <td>08</td>\n",
       "            <td>3143</td>\n",
       "        </tr>\n",
       "        <tr>\n",
       "            <td>2015-01-01 09:00:00</td>\n",
       "            <td>09</td>\n",
       "            <td>2572</td>\n",
       "        </tr>\n",
       "    </tbody>\n",
       "</table>"
      ],
      "text/plain": [
       "[('2015-01-01 00:00:00', '00', 2789),\n",
       " ('2015-01-01 01:00:00', '01', 2852),\n",
       " ('2015-01-01 02:00:00', '02', 5206),\n",
       " ('2015-01-01 03:00:00', '03', 7939),\n",
       " ('2015-01-01 04:00:00', '04', 8260),\n",
       " ('2015-01-01 05:00:00', '05', 1347),\n",
       " ('2015-01-01 06:00:00', '06', 954),\n",
       " ('2015-01-01 07:00:00', '07', 2004),\n",
       " ('2015-01-01 08:00:00', '08', 3143),\n",
       " ('2015-01-01 09:00:00', '09', 2572)]"
      ]
     },
     "execution_count": 28,
     "metadata": {},
     "output_type": "execute_result"
    }
   ],
   "source": [
    "%%sql\n",
    "SELECT time, strftime(\"%H\", time) AS hour_of_day, SUM(number_of_viewers) AS number_of_viewers\n",
    "FROM views_by_time_tbl\n",
    "GROUP BY 2\n",
    "ORDER BY 2\n",
    "LIMIT 10"
   ]
  },
  {
   "cell_type": "markdown",
   "metadata": {},
   "source": [
    "Now we can see that the query correctly returned the views grouped by hour of the day. We can then plot how the number of views changes throughout the day for both `chat` and `stream` datasets.\n",
    "\n",
    "First, we will need Pandas DataFrames which contain the results of the SQL queries that were just created."
   ]
  },
  {
   "cell_type": "markdown",
   "metadata": {},
   "source": [
    "## Converting to Pandas for plotting"
   ]
  },
  {
   "cell_type": "code",
   "execution_count": 29,
   "metadata": {},
   "outputs": [
    {
     "data": {
      "text/html": [
       "<div>\n",
       "<style scoped>\n",
       "    .dataframe tbody tr th:only-of-type {\n",
       "        vertical-align: middle;\n",
       "    }\n",
       "\n",
       "    .dataframe tbody tr th {\n",
       "        vertical-align: top;\n",
       "    }\n",
       "\n",
       "    .dataframe thead th {\n",
       "        text-align: right;\n",
       "    }\n",
       "</style>\n",
       "<table border=\"1\" class=\"dataframe\">\n",
       "  <thead>\n",
       "    <tr style=\"text-align: right;\">\n",
       "      <th></th>\n",
       "      <th>time</th>\n",
       "      <th>hour_of_day</th>\n",
       "      <th>number_of_viewers</th>\n",
       "    </tr>\n",
       "  </thead>\n",
       "  <tbody>\n",
       "    <tr>\n",
       "      <th>0</th>\n",
       "      <td>2015-01-01 00:00:00</td>\n",
       "      <td>00</td>\n",
       "      <td>2789</td>\n",
       "    </tr>\n",
       "    <tr>\n",
       "      <th>1</th>\n",
       "      <td>2015-01-01 01:00:00</td>\n",
       "      <td>01</td>\n",
       "      <td>2852</td>\n",
       "    </tr>\n",
       "    <tr>\n",
       "      <th>2</th>\n",
       "      <td>2015-01-01 02:00:00</td>\n",
       "      <td>02</td>\n",
       "      <td>5206</td>\n",
       "    </tr>\n",
       "    <tr>\n",
       "      <th>3</th>\n",
       "      <td>2015-01-01 03:00:00</td>\n",
       "      <td>03</td>\n",
       "      <td>7939</td>\n",
       "    </tr>\n",
       "    <tr>\n",
       "      <th>4</th>\n",
       "      <td>2015-01-01 04:00:00</td>\n",
       "      <td>04</td>\n",
       "      <td>8260</td>\n",
       "    </tr>\n",
       "  </tbody>\n",
       "</table>\n",
       "</div>"
      ],
      "text/plain": [
       "                  time hour_of_day  number_of_viewers\n",
       "0  2015-01-01 00:00:00          00               2789\n",
       "1  2015-01-01 01:00:00          01               2852\n",
       "2  2015-01-01 02:00:00          02               5206\n",
       "3  2015-01-01 03:00:00          03               7939\n",
       "4  2015-01-01 04:00:00          04               8260"
      ]
     },
     "execution_count": 29,
     "metadata": {},
     "output_type": "execute_result"
    }
   ],
   "source": [
    "views_by_time_chat_df = pd.read_sql(\"\"\"\n",
    "                                    SELECT time, strftime(\"%H\", time) AS hour_of_day, SUM(number_of_viewers) AS number_of_viewers\n",
    "                                    FROM views_by_time_tbl\n",
    "                                    GROUP BY 2\n",
    "                                    ORDER BY 2\"\"\", con=conn)\n",
    "\n",
    "views_by_time_stream_df = pd.read_sql(\"\"\"\n",
    "                                     SELECT time, strftime(\"%H\", time) AS hour_of_day, COUNT(device_id) AS number_of_viewers\n",
    "                                     FROM stream\n",
    "                                     GROUP BY 2\n",
    "                                     ORDER BY 2 ASC\"\"\", con=conn)\n",
    "\n",
    "views_by_time_chat_df.head()"
   ]
  },
  {
   "cell_type": "code",
   "execution_count": 30,
   "metadata": {},
   "outputs": [
    {
     "data": {
      "text/html": [
       "<div>\n",
       "<style scoped>\n",
       "    .dataframe tbody tr th:only-of-type {\n",
       "        vertical-align: middle;\n",
       "    }\n",
       "\n",
       "    .dataframe tbody tr th {\n",
       "        vertical-align: top;\n",
       "    }\n",
       "\n",
       "    .dataframe thead th {\n",
       "        text-align: right;\n",
       "    }\n",
       "</style>\n",
       "<table border=\"1\" class=\"dataframe\">\n",
       "  <thead>\n",
       "    <tr style=\"text-align: right;\">\n",
       "      <th></th>\n",
       "      <th>time</th>\n",
       "      <th>hour_of_day</th>\n",
       "      <th>number_of_viewers</th>\n",
       "    </tr>\n",
       "  </thead>\n",
       "  <tbody>\n",
       "    <tr>\n",
       "      <th>0</th>\n",
       "      <td>2015-01-01 00:18:33</td>\n",
       "      <td>00</td>\n",
       "      <td>15411</td>\n",
       "    </tr>\n",
       "    <tr>\n",
       "      <th>1</th>\n",
       "      <td>2015-01-01 01:32:54</td>\n",
       "      <td>01</td>\n",
       "      <td>14407</td>\n",
       "    </tr>\n",
       "    <tr>\n",
       "      <th>2</th>\n",
       "      <td>2015-01-01 02:12:40</td>\n",
       "      <td>02</td>\n",
       "      <td>24137</td>\n",
       "    </tr>\n",
       "    <tr>\n",
       "      <th>3</th>\n",
       "      <td>2015-01-01 03:49:36</td>\n",
       "      <td>03</td>\n",
       "      <td>16205</td>\n",
       "    </tr>\n",
       "    <tr>\n",
       "      <th>4</th>\n",
       "      <td>2015-01-01 04:39:38</td>\n",
       "      <td>04</td>\n",
       "      <td>15098</td>\n",
       "    </tr>\n",
       "  </tbody>\n",
       "</table>\n",
       "</div>"
      ],
      "text/plain": [
       "                  time hour_of_day  number_of_viewers\n",
       "0  2015-01-01 00:18:33          00              15411\n",
       "1  2015-01-01 01:32:54          01              14407\n",
       "2  2015-01-01 02:12:40          02              24137\n",
       "3  2015-01-01 03:49:36          03              16205\n",
       "4  2015-01-01 04:39:38          04              15098"
      ]
     },
     "execution_count": 30,
     "metadata": {},
     "output_type": "execute_result"
    }
   ],
   "source": [
    "views_by_time_stream_df.head()"
   ]
  },
  {
   "cell_type": "markdown",
   "metadata": {},
   "source": [
    "## Plotting views per hour of the day"
   ]
  },
  {
   "cell_type": "markdown",
   "metadata": {},
   "source": [
    "We can plot both the `chat` and `stream` data on the same plot to show how views vary throughout the day.\n",
    "\n",
    "We would expect to see commonalities between both datasets, as there are likely to be peak times and quieter times in terms of traffic to the site.\n",
    "\n",
    "As the `stream` table is considerably larger, it is expected that the viewer count will also be considerably larger for any given time of day. Nevertheless, it is still insightful to plot them on the same chart with the same axes scales."
   ]
  },
  {
   "cell_type": "code",
   "execution_count": 31,
   "metadata": {},
   "outputs": [],
   "source": [
    "chat_hours = views_by_time_chat_df['hour_of_day']\n",
    "chat_viewers = views_by_time_chat_df['number_of_viewers']\n",
    "\n",
    "stream_hours = views_by_time_stream_df['hour_of_day']\n",
    "stream_viewers = views_by_time_stream_df['number_of_viewers']"
   ]
  },
  {
   "cell_type": "code",
   "execution_count": 32,
   "metadata": {},
   "outputs": [
    {
     "data": {
      "image/png": "[encoded data removed]",
      "text/plain": [
       "<Figure size 864x576 with 1 Axes>"
      ]
     },
     "metadata": {
      "needs_background": "light"
     },
     "output_type": "display_data"
    }
   ],
   "source": [
    "plt.figure(figsize=(12, 8))\n",
    "plt.plot(chat_hours, chat_viewers)\n",
    "plt.plot(stream_hours, stream_viewers)\n",
    "plt.title('Viewers per hour of the day', fontsize=14)\n",
    "plt.xlabel('Time of day (24hour)', fontsize=12)\n",
    "plt.ylabel('Number of Viewers', fontsize=12)\n",
    "\n",
    "# adding 15% error to the number of viewers to show what could be a typical range for the number of viewers\n",
    "y_upper_chat = [i+(0.15*i) for i in chat_viewers]\n",
    "y_lower_chat = [i-(0.15*i) for i in chat_viewers]\n",
    "\n",
    "y_upper_stream = [i+(0.15*i) for i in stream_viewers]\n",
    "y_lower_stream = [i-(0.15*i) for i in stream_viewers]\n",
    "\n",
    "plt.fill_between(chat_hours, y_lower_chat, y_upper_chat, alpha=0.2)\n",
    "plt.fill_between(stream_hours, y_lower_stream, y_upper_stream, alpha=0.2)\n",
    "plt.grid()\n",
    "plt.legend(['chat dataset', 'stream dataset'])\n",
    "\n",
    "plt.savefig('ViewersPerHour.png')"
   ]
  },
  {
   "cell_type": "markdown",
   "metadata": {},
   "source": [
    "# Joining the data"
   ]
  },
  {
   "cell_type": "markdown",
   "metadata": {},
   "source": [
    "There may be shared data between the two datasets, e.g one user might appear in both the `stream` and `chat` datasets.\n",
    "\n",
    "To address this, the following query returns a join on `device_id`, if the datasets share common `device_id` records."
   ]
  },
  {
   "cell_type": "code",
   "execution_count": 33,
   "metadata": {},
   "outputs": [
    {
     "name": "stdout",
     "output_type": "stream",
     "text": [
      " * sqlite:///Twitch_data_analysis.db\n",
      "Done.\n"
     ]
    },
    {
     "data": {
      "text/html": [
       "<table>\n",
       "    <thead>\n",
       "        <tr>\n",
       "            <th>index</th>\n",
       "            <th>time</th>\n",
       "            <th>device_id</th>\n",
       "            <th>login</th>\n",
       "            <th>channel</th>\n",
       "            <th>country</th>\n",
       "            <th>player</th>\n",
       "            <th>game</th>\n",
       "            <th>stream_format</th>\n",
       "            <th>subscriber</th>\n",
       "            <th>index_1</th>\n",
       "            <th>time_1</th>\n",
       "            <th>device_id_1</th>\n",
       "            <th>login_1</th>\n",
       "            <th>channel_1</th>\n",
       "            <th>country_1</th>\n",
       "            <th>player_1</th>\n",
       "            <th>game_1</th>\n",
       "        </tr>\n",
       "    </thead>\n",
       "    <tbody>\n",
       "        <tr>\n",
       "            <td>0</td>\n",
       "            <td>2015-01-01 18:33:52</td>\n",
       "            <td>40ffc2fa6534cf760becbdbf5311e31ad069e46e</td>\n",
       "            <td>085c1eb7b587bfe654f0df7b4ba7f4fc4013636c</td>\n",
       "            <td>frank</td>\n",
       "            <td>US</td>\n",
       "            <td>iphone_t</td>\n",
       "            <td>League of Legends</td>\n",
       "            <td>None</td>\n",
       "            <td>None</td>\n",
       "            <td>31863</td>\n",
       "            <td>01/01/2015 22:43</td>\n",
       "            <td>40ffc2fa6534cf760becbdbf5311e31ad069e46e</td>\n",
       "            <td>085c1eb7b587bfe654f0df7b4ba7f4fc4013636c</td>\n",
       "            <td>frank</td>\n",
       "            <td>US</td>\n",
       "            <td>iphone_t</td>\n",
       "            <td>League of Legends</td>\n",
       "        </tr>\n",
       "        <tr>\n",
       "            <td>1</td>\n",
       "            <td>2015-01-01 23:35:33</td>\n",
       "            <td>9a8cc2b7162b99c0a0f501dc9a5ec4f68586a760</td>\n",
       "            <td>5ad49a7b408ce452140b180dd6efb57a9f4d22c7</td>\n",
       "            <td>george</td>\n",
       "            <td>US</td>\n",
       "            <td>site</td>\n",
       "            <td>DayZ</td>\n",
       "            <td>chunked</td>\n",
       "            <td>0</td>\n",
       "            <td>3664</td>\n",
       "            <td>01/01/2015 21:23</td>\n",
       "            <td>9a8cc2b7162b99c0a0f501dc9a5ec4f68586a760</td>\n",
       "            <td>5ad49a7b408ce452140b180dd6efb57a9f4d22c7</td>\n",
       "            <td>george</td>\n",
       "            <td>US</td>\n",
       "            <td>None</td>\n",
       "            <td>DayZ</td>\n",
       "        </tr>\n",
       "        <tr>\n",
       "            <td>1</td>\n",
       "            <td>2015-01-01 23:35:33</td>\n",
       "            <td>9a8cc2b7162b99c0a0f501dc9a5ec4f68586a760</td>\n",
       "            <td>5ad49a7b408ce452140b180dd6efb57a9f4d22c7</td>\n",
       "            <td>george</td>\n",
       "            <td>US</td>\n",
       "            <td>site</td>\n",
       "            <td>DayZ</td>\n",
       "            <td>chunked</td>\n",
       "            <td>0</td>\n",
       "            <td>29859</td>\n",
       "            <td>01/01/2015 22:00</td>\n",
       "            <td>9a8cc2b7162b99c0a0f501dc9a5ec4f68586a760</td>\n",
       "            <td>5ad49a7b408ce452140b180dd6efb57a9f4d22c7</td>\n",
       "            <td>george</td>\n",
       "            <td>US</td>\n",
       "            <td>None</td>\n",
       "            <td>DayZ</td>\n",
       "        </tr>\n",
       "        <tr>\n",
       "            <td>1</td>\n",
       "            <td>2015-01-01 23:35:33</td>\n",
       "            <td>9a8cc2b7162b99c0a0f501dc9a5ec4f68586a760</td>\n",
       "            <td>5ad49a7b408ce452140b180dd6efb57a9f4d22c7</td>\n",
       "            <td>george</td>\n",
       "            <td>US</td>\n",
       "            <td>site</td>\n",
       "            <td>DayZ</td>\n",
       "            <td>chunked</td>\n",
       "            <td>0</td>\n",
       "            <td>45331</td>\n",
       "            <td>01/01/2015 20:41</td>\n",
       "            <td>9a8cc2b7162b99c0a0f501dc9a5ec4f68586a760</td>\n",
       "            <td>5ad49a7b408ce452140b180dd6efb57a9f4d22c7</td>\n",
       "            <td>george</td>\n",
       "            <td>US</td>\n",
       "            <td>None</td>\n",
       "            <td>DayZ</td>\n",
       "        </tr>\n",
       "        <tr>\n",
       "            <td>1</td>\n",
       "            <td>2015-01-01 23:35:33</td>\n",
       "            <td>9a8cc2b7162b99c0a0f501dc9a5ec4f68586a760</td>\n",
       "            <td>5ad49a7b408ce452140b180dd6efb57a9f4d22c7</td>\n",
       "            <td>george</td>\n",
       "            <td>US</td>\n",
       "            <td>site</td>\n",
       "            <td>DayZ</td>\n",
       "            <td>chunked</td>\n",
       "            <td>0</td>\n",
       "            <td>68194</td>\n",
       "            <td>01/01/2015 20:46</td>\n",
       "            <td>9a8cc2b7162b99c0a0f501dc9a5ec4f68586a760</td>\n",
       "            <td>5ad49a7b408ce452140b180dd6efb57a9f4d22c7</td>\n",
       "            <td>george</td>\n",
       "            <td>US</td>\n",
       "            <td>None</td>\n",
       "            <td>DayZ</td>\n",
       "        </tr>\n",
       "        <tr>\n",
       "            <td>1</td>\n",
       "            <td>2015-01-01 23:35:33</td>\n",
       "            <td>9a8cc2b7162b99c0a0f501dc9a5ec4f68586a760</td>\n",
       "            <td>5ad49a7b408ce452140b180dd6efb57a9f4d22c7</td>\n",
       "            <td>george</td>\n",
       "            <td>US</td>\n",
       "            <td>site</td>\n",
       "            <td>DayZ</td>\n",
       "            <td>chunked</td>\n",
       "            <td>0</td>\n",
       "            <td>72521</td>\n",
       "            <td>01/01/2015 22:09</td>\n",
       "            <td>9a8cc2b7162b99c0a0f501dc9a5ec4f68586a760</td>\n",
       "            <td>5ad49a7b408ce452140b180dd6efb57a9f4d22c7</td>\n",
       "            <td>george</td>\n",
       "            <td>US</td>\n",
       "            <td>None</td>\n",
       "            <td>DayZ</td>\n",
       "        </tr>\n",
       "        <tr>\n",
       "            <td>1</td>\n",
       "            <td>2015-01-01 23:35:33</td>\n",
       "            <td>9a8cc2b7162b99c0a0f501dc9a5ec4f68586a760</td>\n",
       "            <td>5ad49a7b408ce452140b180dd6efb57a9f4d22c7</td>\n",
       "            <td>george</td>\n",
       "            <td>US</td>\n",
       "            <td>site</td>\n",
       "            <td>DayZ</td>\n",
       "            <td>chunked</td>\n",
       "            <td>0</td>\n",
       "            <td>76302</td>\n",
       "            <td>01/01/2015 22:16</td>\n",
       "            <td>9a8cc2b7162b99c0a0f501dc9a5ec4f68586a760</td>\n",
       "            <td>5ad49a7b408ce452140b180dd6efb57a9f4d22c7</td>\n",
       "            <td>george</td>\n",
       "            <td>US</td>\n",
       "            <td>None</td>\n",
       "            <td>DayZ</td>\n",
       "        </tr>\n",
       "        <tr>\n",
       "            <td>1</td>\n",
       "            <td>2015-01-01 23:35:33</td>\n",
       "            <td>9a8cc2b7162b99c0a0f501dc9a5ec4f68586a760</td>\n",
       "            <td>5ad49a7b408ce452140b180dd6efb57a9f4d22c7</td>\n",
       "            <td>george</td>\n",
       "            <td>US</td>\n",
       "            <td>site</td>\n",
       "            <td>DayZ</td>\n",
       "            <td>chunked</td>\n",
       "            <td>0</td>\n",
       "            <td>76873</td>\n",
       "            <td>01/01/2015 20:41</td>\n",
       "            <td>9a8cc2b7162b99c0a0f501dc9a5ec4f68586a760</td>\n",
       "            <td>5ad49a7b408ce452140b180dd6efb57a9f4d22c7</td>\n",
       "            <td>george</td>\n",
       "            <td>US</td>\n",
       "            <td>None</td>\n",
       "            <td>DayZ</td>\n",
       "        </tr>\n",
       "        <tr>\n",
       "            <td>1</td>\n",
       "            <td>2015-01-01 23:35:33</td>\n",
       "            <td>9a8cc2b7162b99c0a0f501dc9a5ec4f68586a760</td>\n",
       "            <td>5ad49a7b408ce452140b180dd6efb57a9f4d22c7</td>\n",
       "            <td>george</td>\n",
       "            <td>US</td>\n",
       "            <td>site</td>\n",
       "            <td>DayZ</td>\n",
       "            <td>chunked</td>\n",
       "            <td>0</td>\n",
       "            <td>88784</td>\n",
       "            <td>01/01/2015 22:02</td>\n",
       "            <td>9a8cc2b7162b99c0a0f501dc9a5ec4f68586a760</td>\n",
       "            <td>5ad49a7b408ce452140b180dd6efb57a9f4d22c7</td>\n",
       "            <td>george</td>\n",
       "            <td>US</td>\n",
       "            <td>None</td>\n",
       "            <td>DayZ</td>\n",
       "        </tr>\n",
       "        <tr>\n",
       "            <td>1</td>\n",
       "            <td>2015-01-01 23:35:33</td>\n",
       "            <td>9a8cc2b7162b99c0a0f501dc9a5ec4f68586a760</td>\n",
       "            <td>5ad49a7b408ce452140b180dd6efb57a9f4d22c7</td>\n",
       "            <td>george</td>\n",
       "            <td>US</td>\n",
       "            <td>site</td>\n",
       "            <td>DayZ</td>\n",
       "            <td>chunked</td>\n",
       "            <td>0</td>\n",
       "            <td>101557</td>\n",
       "            <td>01/01/2015 22:09</td>\n",
       "            <td>9a8cc2b7162b99c0a0f501dc9a5ec4f68586a760</td>\n",
       "            <td>5ad49a7b408ce452140b180dd6efb57a9f4d22c7</td>\n",
       "            <td>george</td>\n",
       "            <td>US</td>\n",
       "            <td>None</td>\n",
       "            <td>DayZ</td>\n",
       "        </tr>\n",
       "    </tbody>\n",
       "</table>"
      ],
      "text/plain": [
       "[(0, '2015-01-01 18:33:52', '40ffc2fa6534cf760becbdbf5311e31ad069e46e', '085c1eb7b587bfe654f0df7b4ba7f4fc4013636c', 'frank', 'US', 'iphone_t', 'League of Legends', None, None, 31863, '01/01/2015 22:43', '40ffc2fa6534cf760becbdbf5311e31ad069e46e', '085c1eb7b587bfe654f0df7b4ba7f4fc4013636c', 'frank', 'US', 'iphone_t', 'League of Legends'),\n",
       " (1, '2015-01-01 23:35:33', '9a8cc2b7162b99c0a0f501dc9a5ec4f68586a760', '5ad49a7b408ce452140b180dd6efb57a9f4d22c7', 'george', 'US', 'site', 'DayZ', 'chunked', 0, 3664, '01/01/2015 21:23', '9a8cc2b7162b99c0a0f501dc9a5ec4f68586a760', '5ad49a7b408ce452140b180dd6efb57a9f4d22c7', 'george', 'US', None, 'DayZ'),\n",
       " (1, '2015-01-01 23:35:33', '9a8cc2b7162b99c0a0f501dc9a5ec4f68586a760', '5ad49a7b408ce452140b180dd6efb57a9f4d22c7', 'george', 'US', 'site', 'DayZ', 'chunked', 0, 29859, '01/01/2015 22:00', '9a8cc2b7162b99c0a0f501dc9a5ec4f68586a760', '5ad49a7b408ce452140b180dd6efb57a9f4d22c7', 'george', 'US', None, 'DayZ'),\n",
       " (1, '2015-01-01 23:35:33', '9a8cc2b7162b99c0a0f501dc9a5ec4f68586a760', '5ad49a7b408ce452140b180dd6efb57a9f4d22c7', 'george', 'US', 'site', 'DayZ', 'chunked', 0, 45331, '01/01/2015 20:41', '9a8cc2b7162b99c0a0f501dc9a5ec4f68586a760', '5ad49a7b408ce452140b180dd6efb57a9f4d22c7', 'george', 'US', None, 'DayZ'),\n",
       " (1, '2015-01-01 23:35:33', '9a8cc2b7162b99c0a0f501dc9a5ec4f68586a760', '5ad49a7b408ce452140b180dd6efb57a9f4d22c7', 'george', 'US', 'site', 'DayZ', 'chunked', 0, 68194, '01/01/2015 20:46', '9a8cc2b7162b99c0a0f501dc9a5ec4f68586a760', '5ad49a7b408ce452140b180dd6efb57a9f4d22c7', 'george', 'US', None, 'DayZ'),\n",
       " (1, '2015-01-01 23:35:33', '9a8cc2b7162b99c0a0f501dc9a5ec4f68586a760', '5ad49a7b408ce452140b180dd6efb57a9f4d22c7', 'george', 'US', 'site', 'DayZ', 'chunked', 0, 72521, '01/01/2015 22:09', '9a8cc2b7162b99c0a0f501dc9a5ec4f68586a760', '5ad49a7b408ce452140b180dd6efb57a9f4d22c7', 'george', 'US', None, 'DayZ'),\n",
       " (1, '2015-01-01 23:35:33', '9a8cc2b7162b99c0a0f501dc9a5ec4f68586a760', '5ad49a7b408ce452140b180dd6efb57a9f4d22c7', 'george', 'US', 'site', 'DayZ', 'chunked', 0, 76302, '01/01/2015 22:16', '9a8cc2b7162b99c0a0f501dc9a5ec4f68586a760', '5ad49a7b408ce452140b180dd6efb57a9f4d22c7', 'george', 'US', None, 'DayZ'),\n",
       " (1, '2015-01-01 23:35:33', '9a8cc2b7162b99c0a0f501dc9a5ec4f68586a760', '5ad49a7b408ce452140b180dd6efb57a9f4d22c7', 'george', 'US', 'site', 'DayZ', 'chunked', 0, 76873, '01/01/2015 20:41', '9a8cc2b7162b99c0a0f501dc9a5ec4f68586a760', '5ad49a7b408ce452140b180dd6efb57a9f4d22c7', 'george', 'US', None, 'DayZ'),\n",
       " (1, '2015-01-01 23:35:33', '9a8cc2b7162b99c0a0f501dc9a5ec4f68586a760', '5ad49a7b408ce452140b180dd6efb57a9f4d22c7', 'george', 'US', 'site', 'DayZ', 'chunked', 0, 88784, '01/01/2015 22:02', '9a8cc2b7162b99c0a0f501dc9a5ec4f68586a760', '5ad49a7b408ce452140b180dd6efb57a9f4d22c7', 'george', 'US', None, 'DayZ'),\n",
       " (1, '2015-01-01 23:35:33', '9a8cc2b7162b99c0a0f501dc9a5ec4f68586a760', '5ad49a7b408ce452140b180dd6efb57a9f4d22c7', 'george', 'US', 'site', 'DayZ', 'chunked', 0, 101557, '01/01/2015 22:09', '9a8cc2b7162b99c0a0f501dc9a5ec4f68586a760', '5ad49a7b408ce452140b180dd6efb57a9f4d22c7', 'george', 'US', None, 'DayZ')]"
      ]
     },
     "execution_count": 33,
     "metadata": {},
     "output_type": "execute_result"
    }
   ],
   "source": [
    "%%sql\n",
    "SELECT *\n",
    "FROM stream\n",
    "JOIN chat\n",
    "    ON stream.device_id = chat.device_id\n",
    "LIMIT 10"
   ]
  },
  {
   "cell_type": "code",
   "execution_count": 34,
   "metadata": {},
   "outputs": [
    {
     "name": "stdout",
     "output_type": "stream",
     "text": [
      " * sqlite:///Twitch_data_analysis.db\n",
      "Done.\n"
     ]
    },
    {
     "data": {
      "text/html": [
       "<table>\n",
       "    <thead>\n",
       "        <tr>\n",
       "            <th>COUNT(DISTINCT stream.game)</th>\n",
       "            <th>COUNT(*)</th>\n",
       "        </tr>\n",
       "    </thead>\n",
       "    <tbody>\n",
       "        <tr>\n",
       "            <td>26</td>\n",
       "            <td>667485</td>\n",
       "        </tr>\n",
       "    </tbody>\n",
       "</table>"
      ],
      "text/plain": [
       "[(26, 667485)]"
      ]
     },
     "execution_count": 34,
     "metadata": {},
     "output_type": "execute_result"
    }
   ],
   "source": [
    "%%sql\n",
    "SELECT COUNT(DISTINCT stream.game), COUNT(*)\n",
    "FROM stream\n",
    "JOIN chat\n",
    "    ON stream.device_id = chat.device_id\n",
    "LIMIT 5"
   ]
  },
  {
   "cell_type": "markdown",
   "metadata": {},
   "source": [
    "So the same `device_id` does appear in both the `stream` and `chat` data. In fact, they appear multiple times in the `chat` table for many occurrences in the `stream` table."
   ]
  },
  {
   "cell_type": "markdown",
   "metadata": {},
   "source": [
    "For visualisation purposes, we will use Pandas to save some SQL queries in the upcoming sections."
   ]
  },
  {
   "cell_type": "markdown",
   "metadata": {},
   "source": [
    "# Visualisation of results"
   ]
  },
  {
   "cell_type": "markdown",
   "metadata": {},
   "source": [
    "## Views per game"
   ]
  },
  {
   "cell_type": "markdown",
   "metadata": {},
   "source": [
    "We can visualise the most popular games by using simple bar plots.\n",
    "\n",
    "The aim with these visualisations is to make clear what proportion of views are accounted for by each game. The `stream` dataset will have a larger number of views as the dataset is larger, but the purpose of the bar plots is only to visually display the proportion of views and the count is less important."
   ]
  },
  {
   "cell_type": "markdown",
   "metadata": {},
   "source": [
    "### Saving earlier queries into Pandas DataFrames"
   ]
  },
  {
   "cell_type": "markdown",
   "metadata": {},
   "source": [
    "To visualise the results of the analysis, it will be useful to read some queries into Pandas DataFrames."
   ]
  },
  {
   "cell_type": "code",
   "execution_count": 35,
   "metadata": {},
   "outputs": [],
   "source": [
    "stream_views_by_game = pd.read_sql(\"\"\"\n",
    "                                    SELECT game, COUNT(*) as views\n",
    "                                    FROM stream\n",
    "                                    GROUP BY 1\n",
    "                                    ORDER BY 2 DESC\n",
    "                                    \"\"\", con=conn)\n",
    "\n",
    "chat_views_by_game = pd.read_sql(\"\"\"\n",
    "                                SELECT game, COUNT(*) as views\n",
    "                                FROM chat\n",
    "                                GROUP BY 1\n",
    "                                ORDER BY 2 DESC\n",
    "                                \"\"\", con=conn)"
   ]
  },
  {
   "cell_type": "code",
   "execution_count": 36,
   "metadata": {},
   "outputs": [
    {
     "data": {
      "text/html": [
       "<div>\n",
       "<style scoped>\n",
       "    .dataframe tbody tr th:only-of-type {\n",
       "        vertical-align: middle;\n",
       "    }\n",
       "\n",
       "    .dataframe tbody tr th {\n",
       "        vertical-align: top;\n",
       "    }\n",
       "\n",
       "    .dataframe thead th {\n",
       "        text-align: right;\n",
       "    }\n",
       "</style>\n",
       "<table border=\"1\" class=\"dataframe\">\n",
       "  <thead>\n",
       "    <tr style=\"text-align: right;\">\n",
       "      <th></th>\n",
       "      <th>game</th>\n",
       "      <th>views</th>\n",
       "    </tr>\n",
       "  </thead>\n",
       "  <tbody>\n",
       "    <tr>\n",
       "      <th>0</th>\n",
       "      <td>League of Legends</td>\n",
       "      <td>193533</td>\n",
       "    </tr>\n",
       "    <tr>\n",
       "      <th>1</th>\n",
       "      <td>Dota 2</td>\n",
       "      <td>85608</td>\n",
       "    </tr>\n",
       "    <tr>\n",
       "      <th>2</th>\n",
       "      <td>Counter-Strike: Global Offensive</td>\n",
       "      <td>54438</td>\n",
       "    </tr>\n",
       "    <tr>\n",
       "      <th>3</th>\n",
       "      <td>DayZ</td>\n",
       "      <td>38004</td>\n",
       "    </tr>\n",
       "    <tr>\n",
       "      <th>4</th>\n",
       "      <td>Heroes of the Storm</td>\n",
       "      <td>35310</td>\n",
       "    </tr>\n",
       "  </tbody>\n",
       "</table>\n",
       "</div>"
      ],
      "text/plain": [
       "                               game   views\n",
       "0                 League of Legends  193533\n",
       "1                            Dota 2   85608\n",
       "2  Counter-Strike: Global Offensive   54438\n",
       "3                              DayZ   38004\n",
       "4               Heroes of the Storm   35310"
      ]
     },
     "execution_count": 36,
     "metadata": {},
     "output_type": "execute_result"
    }
   ],
   "source": [
    "stream_views_by_game.head()"
   ]
  },
  {
   "cell_type": "code",
   "execution_count": 37,
   "metadata": {},
   "outputs": [
    {
     "data": {
      "text/html": [
       "<div>\n",
       "<style scoped>\n",
       "    .dataframe tbody tr th:only-of-type {\n",
       "        vertical-align: middle;\n",
       "    }\n",
       "\n",
       "    .dataframe tbody tr th {\n",
       "        vertical-align: top;\n",
       "    }\n",
       "\n",
       "    .dataframe thead th {\n",
       "        text-align: right;\n",
       "    }\n",
       "</style>\n",
       "<table border=\"1\" class=\"dataframe\">\n",
       "  <thead>\n",
       "    <tr style=\"text-align: right;\">\n",
       "      <th></th>\n",
       "      <th>game</th>\n",
       "      <th>views</th>\n",
       "    </tr>\n",
       "  </thead>\n",
       "  <tbody>\n",
       "    <tr>\n",
       "      <th>0</th>\n",
       "      <td>League of Legends</td>\n",
       "      <td>48066</td>\n",
       "    </tr>\n",
       "    <tr>\n",
       "      <th>1</th>\n",
       "      <td>Dota 2</td>\n",
       "      <td>26498</td>\n",
       "    </tr>\n",
       "    <tr>\n",
       "      <th>2</th>\n",
       "      <td>Gaming Talk Shows</td>\n",
       "      <td>15743</td>\n",
       "    </tr>\n",
       "    <tr>\n",
       "      <th>3</th>\n",
       "      <td>Counter-Strike: Global Offensive</td>\n",
       "      <td>10666</td>\n",
       "    </tr>\n",
       "    <tr>\n",
       "      <th>4</th>\n",
       "      <td>DayZ</td>\n",
       "      <td>10146</td>\n",
       "    </tr>\n",
       "  </tbody>\n",
       "</table>\n",
       "</div>"
      ],
      "text/plain": [
       "                               game  views\n",
       "0                 League of Legends  48066\n",
       "1                            Dota 2  26498\n",
       "2                 Gaming Talk Shows  15743\n",
       "3  Counter-Strike: Global Offensive  10666\n",
       "4                              DayZ  10146"
      ]
     },
     "execution_count": 37,
     "metadata": {},
     "output_type": "execute_result"
    }
   ],
   "source": [
    "chat_views_by_game.head()"
   ]
  },
  {
   "cell_type": "code",
   "execution_count": 38,
   "metadata": {},
   "outputs": [
    {
     "data": {
      "text/plain": [
       "['League of Legends',\n",
       " 'Dota 2',\n",
       " 'Counter-Strike: Global Offensive',\n",
       " 'DayZ',\n",
       " 'Heroes of the Storm',\n",
       " 'The Binding of Isaac: Rebirth',\n",
       " 'Gaming Talk Shows',\n",
       " 'World of Tanks',\n",
       " 'Hearthstone: Heroes of Warcraft',\n",
       " 'Agar.io',\n",
       " 'Rocket League',\n",
       " 'ARK: Survival Evolved',\n",
       " 'SpeedRunners',\n",
       " None,\n",
       " 'Duck Game',\n",
       " 'Fallout 3',\n",
       " 'Devil May Cry 4: Special Edition',\n",
       " 'Breaking Point',\n",
       " 'Batman: Arkham Knight',\n",
       " 'Reign Of Kings',\n",
       " 'The Witcher 3: Wild Hunt',\n",
       " 'Block N Load',\n",
       " 'Depth',\n",
       " 'Mortal Kombat X',\n",
       " 'H1Z1',\n",
       " 'Super Mario Bros.',\n",
       " 'Grand Theft Auto V',\n",
       " 'Music',\n",
       " 'The Last of Us',\n",
       " 'The Elder Scrolls V: Skyrim',\n",
       " 'Senran Kagura: Estival Versus',\n",
       " 'Risk of Rain',\n",
       " 'You Must Build A Boat',\n",
       " 'The Sims 4',\n",
       " 'Super Mario Bros. 3',\n",
       " 'Lucius',\n",
       " 'Hektor',\n",
       " 'Cities: Skylines',\n",
       " 'Choice Chamber',\n",
       " 'Bridge Constructor Medieval',\n",
       " 'Blackjack',\n",
       " 'Besiege']"
      ]
     },
     "execution_count": 38,
     "metadata": {},
     "output_type": "execute_result"
    }
   ],
   "source": [
    "stream_games = list(stream_views_by_game['game'])\n",
    "stream_views = list(stream_views_by_game['views'])\n",
    "\n",
    "chat_games = list(chat_views_by_game['game'])\n",
    "chat_views = list(chat_views_by_game['views'])\n",
    "\n",
    "stream_games"
   ]
  },
  {
   "cell_type": "code",
   "execution_count": 39,
   "metadata": {},
   "outputs": [
    {
     "data": {
      "text/plain": [
       "['League of Legends',\n",
       " 'Dota 2',\n",
       " 'Gaming Talk Shows',\n",
       " 'Counter-Strike: Global Offensive',\n",
       " 'DayZ',\n",
       " 'Hearthstone: Heroes of Warcraft',\n",
       " 'Heroes of the Storm',\n",
       " 'World of Tanks',\n",
       " 'The Binding of Isaac: Rebirth',\n",
       " 'Agar.io',\n",
       " 'Devil May Cry 4: Special Edition',\n",
       " 'Rocket League',\n",
       " 'ARK: Survival Evolved',\n",
       " 'SpeedRunners',\n",
       " None,\n",
       " 'Grand Theft Auto V',\n",
       " 'Duck Game',\n",
       " 'Fallout 3',\n",
       " 'Batman: Arkham Knight',\n",
       " 'Depth',\n",
       " 'Breaking Point']"
      ]
     },
     "execution_count": 39,
     "metadata": {},
     "output_type": "execute_result"
    }
   ],
   "source": [
    "chat_games"
   ]
  },
  {
   "cell_type": "code",
   "execution_count": 40,
   "metadata": {},
   "outputs": [
    {
     "name": "stdout",
     "output_type": "stream",
     "text": [
      "Number of games in the stream dataset: 42\n",
      "Number of games in the chat dataset: 21\n"
     ]
    }
   ],
   "source": [
    "print(\"Number of games in the stream dataset: \" + str(len(stream_games)))\n",
    "print(\"Number of games in the chat dataset: \" + str(len(chat_games)))"
   ]
  },
  {
   "cell_type": "markdown",
   "metadata": {},
   "source": [
    "### Initial Visualisation"
   ]
  },
  {
   "cell_type": "code",
   "execution_count": 41,
   "metadata": {},
   "outputs": [
    {
     "data": {
      "image/png": "[encoded data removed]",
      "text/plain": [
       "<Figure size 576x864 with 2 Axes>"
      ]
     },
     "metadata": {
      "needs_background": "light"
     },
     "output_type": "display_data"
    }
   ],
   "source": [
    "fig, axes = plt.subplots(1, 2, figsize=(8, 12))\n",
    "#fig.tight_layout()\n",
    "\n",
    "plt.subplot(2, 1, 1)\n",
    "ax = sns.barplot(y=stream_games, x=stream_views).set_title('Views per game in the stream dataset')\n",
    "\n",
    "plt.subplot(2, 1, 2)\n",
    "ax = sns.barplot(y=chat_games, x=chat_views).set_title('Views per game in the chat dataset')\n",
    "sns.set_style(\"darkgrid\")\n",
    "plt.savefig('ViewsPerGame.png')"
   ]
  },
  {
   "cell_type": "markdown",
   "metadata": {},
   "source": [
    "So the majority of the games in the `stream` dataset have very few views in relation to the total views, and a smaller proportion of the games in the `chat` dataset have very few views.\n",
    "\n",
    "We will restrict our view to the first 14 games in each dataset as these account for the vast majority of views"
   ]
  },
  {
   "cell_type": "markdown",
   "metadata": {},
   "source": [
    "### Clipping the data and second visualisation"
   ]
  },
  {
   "cell_type": "markdown",
   "metadata": {},
   "source": [
    "It would be simple to alter the code from the previous visualisation to show only the top 14 games, however we will create new objects storing the clipped data so that there is a clear distinction between the data containing all the games and the data containing the most viewed games."
   ]
  },
  {
   "cell_type": "code",
   "execution_count": 42,
   "metadata": {},
   "outputs": [],
   "source": [
    "# create new lists containing only the games with a number of views that are visible on a barplot\n",
    "clipped_stream_games = stream_games[:14]\n",
    "clipped_chat_games = chat_games[:14]\n",
    "\n",
    "clipped_stream_views = stream_views[:14]\n",
    "clipped_chat_views = chat_views[:14]"
   ]
  },
  {
   "cell_type": "code",
   "execution_count": 43,
   "metadata": {},
   "outputs": [
    {
     "data": {
      "image/png": "[encoded data removed]",
      "text/plain": [
       "<Figure size 576x864 with 2 Axes>"
      ]
     },
     "metadata": {},
     "output_type": "display_data"
    }
   ],
   "source": [
    "# repeating the previous visualisation with the new clipped data\n",
    "\n",
    "fig, axes = plt.subplots(1, 2, figsize=(8, 12))\n",
    "#fig.tight_layout()\n",
    "\n",
    "plt.subplot(2, 1, 1)\n",
    "ax = sns.barplot(y=clipped_stream_games, x=clipped_stream_views).set_title('Views per game in the stream dataset')\n",
    "\n",
    "plt.subplot(2, 1, 2)\n",
    "ax = sns.barplot(y=clipped_chat_games, x=clipped_chat_views).set_title('Views per game in the chat dataset')\n",
    "\n",
    "plt.savefig(\"ClippedViewsPerGame.png\")"
   ]
  },
  {
   "cell_type": "markdown",
   "metadata": {},
   "source": [
    "## The most popular game - where do the views come from?"
   ]
  },
  {
   "cell_type": "markdown",
   "metadata": {},
   "source": [
    "League of Legends is the most popular game in both the `chat` and `stream` datasets by a considerable margin. It would be interesting to visualise where in the world those views come from, and what proportion of views come from each country. "
   ]
  },
  {
   "cell_type": "code",
   "execution_count": 44,
   "metadata": {},
   "outputs": [
    {
     "name": "stdout",
     "output_type": "stream",
     "text": [
      "Requirement already satisfied: geopy in c:\\users\\stewa\\documents\\miniconda\\lib\\site-packages (2.1.0)\n",
      "Requirement already satisfied: geographiclib<2,>=1.49 in c:\\users\\stewa\\documents\\miniconda\\lib\\site-packages (from geopy) (1.50)\n"
     ]
    }
   ],
   "source": [
    "# must ensure we have geopy installed for the upcoming visualisations\n",
    "!pip install geopy"
   ]
  },
  {
   "cell_type": "markdown",
   "metadata": {},
   "source": [
    "### Creating pandas DataFrames with the relevant data"
   ]
  },
  {
   "cell_type": "code",
   "execution_count": 45,
   "metadata": {},
   "outputs": [
    {
     "data": {
      "text/html": [
       "<div>\n",
       "<style scoped>\n",
       "    .dataframe tbody tr th:only-of-type {\n",
       "        vertical-align: middle;\n",
       "    }\n",
       "\n",
       "    .dataframe tbody tr th {\n",
       "        vertical-align: top;\n",
       "    }\n",
       "\n",
       "    .dataframe thead th {\n",
       "        text-align: right;\n",
       "    }\n",
       "</style>\n",
       "<table border=\"1\" class=\"dataframe\">\n",
       "  <thead>\n",
       "    <tr style=\"text-align: right;\">\n",
       "      <th></th>\n",
       "      <th>country</th>\n",
       "      <th>game</th>\n",
       "      <th>num_viewers</th>\n",
       "    </tr>\n",
       "  </thead>\n",
       "  <tbody>\n",
       "    <tr>\n",
       "      <th>0</th>\n",
       "      <td>US</td>\n",
       "      <td>League of Legends</td>\n",
       "      <td>26261</td>\n",
       "    </tr>\n",
       "    <tr>\n",
       "      <th>1</th>\n",
       "      <td>CA</td>\n",
       "      <td>League of Legends</td>\n",
       "      <td>2658</td>\n",
       "    </tr>\n",
       "    <tr>\n",
       "      <th>2</th>\n",
       "      <td>None</td>\n",
       "      <td>League of Legends</td>\n",
       "      <td>2027</td>\n",
       "    </tr>\n",
       "    <tr>\n",
       "      <th>3</th>\n",
       "      <td>DE</td>\n",
       "      <td>League of Legends</td>\n",
       "      <td>1702</td>\n",
       "    </tr>\n",
       "    <tr>\n",
       "      <th>4</th>\n",
       "      <td>AU</td>\n",
       "      <td>League of Legends</td>\n",
       "      <td>1300</td>\n",
       "    </tr>\n",
       "  </tbody>\n",
       "</table>\n",
       "</div>"
      ],
      "text/plain": [
       "  country               game  num_viewers\n",
       "0      US  League of Legends        26261\n",
       "1      CA  League of Legends         2658\n",
       "2    None  League of Legends         2027\n",
       "3      DE  League of Legends         1702\n",
       "4      AU  League of Legends         1300"
      ]
     },
     "execution_count": 45,
     "metadata": {},
     "output_type": "execute_result"
    }
   ],
   "source": [
    "# creating DataFrames from the queries used earlier in section 7.2\n",
    "# these collect the number of LoL viewers from each country, and rank in descending order\n",
    "\n",
    "chat_lol_countries_df = pd.read_sql(\"\"\"\n",
    "                                SELECT country, game, COUNT(*) as num_viewers\n",
    "                                FROM chat\n",
    "                                WHERE game = 'League of Legends'\n",
    "                                GROUP BY 1\n",
    "                                ORDER BY 3 DESC\"\"\", con=conn)\n",
    "\n",
    "stream_lol_countries_df = pd.read_sql(\"\"\"\n",
    "                                SELECT country, game, COUNT(*) as num_viewers\n",
    "                                FROM stream\n",
    "                                WHERE game = 'League of Legends'\n",
    "                                GROUP BY 1\n",
    "                                ORDER BY 3 DESC\"\"\", con=conn)\n",
    "\n",
    "chat_lol_countries_df.head()"
   ]
  },
  {
   "cell_type": "code",
   "execution_count": 46,
   "metadata": {},
   "outputs": [
    {
     "data": {
      "text/html": [
       "<div>\n",
       "<style scoped>\n",
       "    .dataframe tbody tr th:only-of-type {\n",
       "        vertical-align: middle;\n",
       "    }\n",
       "\n",
       "    .dataframe tbody tr th {\n",
       "        vertical-align: top;\n",
       "    }\n",
       "\n",
       "    .dataframe thead th {\n",
       "        text-align: right;\n",
       "    }\n",
       "</style>\n",
       "<table border=\"1\" class=\"dataframe\">\n",
       "  <thead>\n",
       "    <tr style=\"text-align: right;\">\n",
       "      <th></th>\n",
       "      <th>country</th>\n",
       "      <th>game</th>\n",
       "      <th>num_viewers</th>\n",
       "    </tr>\n",
       "  </thead>\n",
       "  <tbody>\n",
       "    <tr>\n",
       "      <th>0</th>\n",
       "      <td>US</td>\n",
       "      <td>League of Legends</td>\n",
       "      <td>85606</td>\n",
       "    </tr>\n",
       "    <tr>\n",
       "      <th>1</th>\n",
       "      <td>CA</td>\n",
       "      <td>League of Legends</td>\n",
       "      <td>13034</td>\n",
       "    </tr>\n",
       "    <tr>\n",
       "      <th>2</th>\n",
       "      <td>DE</td>\n",
       "      <td>League of Legends</td>\n",
       "      <td>10835</td>\n",
       "    </tr>\n",
       "    <tr>\n",
       "      <th>3</th>\n",
       "      <td>None</td>\n",
       "      <td>League of Legends</td>\n",
       "      <td>7641</td>\n",
       "    </tr>\n",
       "    <tr>\n",
       "      <th>4</th>\n",
       "      <td>GB</td>\n",
       "      <td>League of Legends</td>\n",
       "      <td>6964</td>\n",
       "    </tr>\n",
       "  </tbody>\n",
       "</table>\n",
       "</div>"
      ],
      "text/plain": [
       "  country               game  num_viewers\n",
       "0      US  League of Legends        85606\n",
       "1      CA  League of Legends        13034\n",
       "2      DE  League of Legends        10835\n",
       "3    None  League of Legends         7641\n",
       "4      GB  League of Legends         6964"
      ]
     },
     "execution_count": 46,
     "metadata": {},
     "output_type": "execute_result"
    }
   ],
   "source": [
    "stream_lol_countries_df.head()"
   ]
  },
  {
   "cell_type": "markdown",
   "metadata": {},
   "source": [
    "### Selecting out features from DataFrames for plotting"
   ]
  },
  {
   "cell_type": "code",
   "execution_count": 47,
   "metadata": {},
   "outputs": [],
   "source": [
    "# select out the countries and viewers separately for each dataset, for plotting\n",
    "\n",
    "chat_lol_countries = chat_lol_countries_df['country']\n",
    "chat_lol_viewers = chat_lol_countries_df['num_viewers']\n",
    "\n",
    "stream_lol_countries = stream_lol_countries_df['country']\n",
    "stream_lol_viewers = stream_lol_countries_df['num_viewers']"
   ]
  },
  {
   "cell_type": "code",
   "execution_count": 48,
   "metadata": {},
   "outputs": [],
   "source": [
    "# focus on the top 10 countries as the list of countries is long and top-heavy w.r.t number of views\n",
    "\n",
    "top_10_chat_countries = chat_lol_countries[:10]\n",
    "top_10_chat_viewers = chat_lol_viewers[:10]\n",
    "\n",
    "top_10_stream_countries = stream_lol_countries[:10]\n",
    "top_10_stream_viewers = stream_lol_viewers[:10]"
   ]
  },
  {
   "cell_type": "code",
   "execution_count": 49,
   "metadata": {},
   "outputs": [
    {
     "data": {
      "text/plain": [
       "0    26261\n",
       "1     2658\n",
       "2     2027\n",
       "3     1702\n",
       "4     1300\n",
       "5     1116\n",
       "6      992\n",
       "7      801\n",
       "8      583\n",
       "9      537\n",
       "Name: num_viewers, dtype: int64"
      ]
     },
     "execution_count": 49,
     "metadata": {},
     "output_type": "execute_result"
    }
   ],
   "source": [
    "top_10_chat_viewers"
   ]
  },
  {
   "cell_type": "markdown",
   "metadata": {},
   "source": [
    "### Plotting proportion of views accounted for by the top 10 countries"
   ]
  },
  {
   "cell_type": "code",
   "execution_count": 50,
   "metadata": {},
   "outputs": [],
   "source": [
    "colours = ['lightskyblue', 'gold', 'lightcoral', 'gainsboro', 'royalblue',\n",
    "           'lightpink', 'darkseagreen', 'sienna', 'khaki', 'gold', 'violet', 'yellowgreen'] "
   ]
  },
  {
   "cell_type": "code",
   "execution_count": 51,
   "metadata": {},
   "outputs": [
    {
     "data": {
      "text/plain": [
       "[0.05, 0, 0, 0, 0, 0, 0, 0, 0, 0]"
      ]
     },
     "execution_count": 51,
     "metadata": {},
     "output_type": "execute_result"
    }
   ],
   "source": [
    "explode = [0.05] + [0]*9\n",
    "explode"
   ]
  },
  {
   "cell_type": "code",
   "execution_count": 66,
   "metadata": {},
   "outputs": [
    {
     "data": {
      "image/png": "[encoded data removed]",
      "text/plain": [
       "<Figure size 1008x648 with 2 Axes>"
      ]
     },
     "metadata": {},
     "output_type": "display_data"
    },
    {
     "name": "stdout",
     "output_type": "stream",
     "text": [
      "        1 file(s) moved.\n"
     ]
    }
   ],
   "source": [
    "fig, axes = plt.subplots(1, 2, figsize = (14, 9))\n",
    "plt.tight_layout()\n",
    "fig.suptitle('Location of the League of Legends Viewers', fontsize=16)\n",
    "\n",
    "# first subplot is for the chat dataset\n",
    "plt.subplot(1, 2, 1)\n",
    "plt.pie(top_10_chat_viewers,\n",
    "        colors=colours,\n",
    "        explode=explode,\n",
    "        startangle=90,\n",
    "        autopct='%1.1f%%', \n",
    "        pctdistance=0.9,\n",
    "        labels=top_10_chat_countries)\n",
    "plt.title('LoL viewers by country - chat dataset', fontsize=12)\n",
    "\n",
    "centre_circle = plt.Circle((0, 0), 0.6, fc='white')\n",
    "fig = plt.gcf()\n",
    "fig.gca().add_artist(centre_circle)\n",
    "\n",
    "plt.legend(top_10_chat_countries, loc='upper left')\n",
    "\n",
    "# second subplot is for the stream dataset\n",
    "plt.subplot(1, 2, 2)\n",
    "plt.pie(top_10_stream_viewers,\n",
    "        colors=colours,\n",
    "        explode=explode,\n",
    "        startangle=90,\n",
    "        autopct='%1.1f%%', \n",
    "        pctdistance=0.9,\n",
    "        labels=top_10_stream_countries)\n",
    "plt.title('LoL viewers by country - stream dataset', fontsize=12)\n",
    "\n",
    "centre_circle = plt.Circle((0, 0), 0.6, fc='white')\n",
    "fig = plt.gcf()\n",
    "fig.gca().add_artist(centre_circle)\n",
    "\n",
    "#plt.title('Location of the League of Legends Viewers', fontsize = 18)\n",
    "plt.legend(top_10_stream_countries, loc='upper left')\n",
    "plt.savefig('LoLViewsByCountry.png')\n",
    "plt.show()\n",
    "\n",
    "!move LoLViewsByCountry.png figures"
   ]
  },
  {
   "cell_type": "markdown",
   "metadata": {},
   "source": [
    "## Interactive map of results"
   ]
  },
  {
   "cell_type": "markdown",
   "metadata": {},
   "source": [
    "Using the results we have found, we can visualise on a world map the location of the people who are watching streamers playing League of Legends.\n",
    "\n",
    "As the proportions of viewers from each country for each dataset is approximately the same, we will only use the `stream` dataset as it has more records."
   ]
  },
  {
   "cell_type": "markdown",
   "metadata": {},
   "source": [
    "### GeoPy and Nominatim"
   ]
  },
  {
   "cell_type": "markdown",
   "metadata": {},
   "source": [
    "Nominatim is a method of the `geocoder` class in `GeoPy`. It connects over internet to OpenStreetMap and is very easy to use and useful for plotting geographic data.\n",
    "\n",
    "Nominatim is Latin for \"by name\"; and this package allows us to search for a country's geographic data by name.\n",
    "\n",
    "Using Nominatim, we only need to pass country abbreviations to instances of the geolocator class created to get latitude and longitude data for that country.\n",
    "\n",
    "These data can then be used with Folium to generate an interactive map."
   ]
  },
  {
   "cell_type": "code",
   "execution_count": 53,
   "metadata": {},
   "outputs": [],
   "source": [
    "geolocator = Nominatim(user_agent='Twitch Visualisation')\n",
    "def geolocate(country):\n",
    "    locs = []\n",
    "    for country in country:\n",
    "        loc = geolocator.geocode(country)\n",
    "        \n",
    "        locs.append([loc.latitude, loc.longitude])\n",
    "    return locs\n"
   ]
  },
  {
   "cell_type": "code",
   "execution_count": 54,
   "metadata": {},
   "outputs": [],
   "source": [
    "geo_list = geolocate(top_10_stream_countries)"
   ]
  },
  {
   "cell_type": "code",
   "execution_count": 55,
   "metadata": {},
   "outputs": [
    {
     "name": "stdout",
     "output_type": "stream",
     "text": [
      "[[39.7837304, -100.4458825], [61.0666922, -107.991707], [51.0834196, 10.4234469], [44.933143, 7.540121], [54.7023545, -3.2765753], [38.9597594, 34.9249653], [-24.7761086, 134.755], [59.6749712, 14.5208584], [52.5001698, 5.7480821], [55.670249, 10.3333283]]\n"
     ]
    }
   ],
   "source": [
    "print(geo_list)"
   ]
  },
  {
   "cell_type": "markdown",
   "metadata": {},
   "source": [
    "Now that we have the latitude and longitude data for each of the ten countries, we create lists of only latitudes and only longitudes, which will be important for using with Folium."
   ]
  },
  {
   "cell_type": "code",
   "execution_count": 56,
   "metadata": {},
   "outputs": [],
   "source": [
    "latitude = [geo_list[i][0] for i in range(len(geo_list))]"
   ]
  },
  {
   "cell_type": "code",
   "execution_count": 57,
   "metadata": {},
   "outputs": [
    {
     "data": {
      "text/plain": [
       "[39.7837304,\n",
       " 61.0666922,\n",
       " 51.0834196,\n",
       " 44.933143,\n",
       " 54.7023545,\n",
       " 38.9597594,\n",
       " -24.7761086,\n",
       " 59.6749712,\n",
       " 52.5001698,\n",
       " 55.670249]"
      ]
     },
     "execution_count": 57,
     "metadata": {},
     "output_type": "execute_result"
    }
   ],
   "source": [
    "latitude"
   ]
  },
  {
   "cell_type": "code",
   "execution_count": 58,
   "metadata": {},
   "outputs": [],
   "source": [
    "longitude = [geo_list[i][1] for i in range(len(geo_list))]"
   ]
  },
  {
   "cell_type": "code",
   "execution_count": 59,
   "metadata": {},
   "outputs": [
    {
     "data": {
      "text/plain": [
       "[-100.4458825,\n",
       " -107.991707,\n",
       " 10.4234469,\n",
       " 7.540121,\n",
       " -3.2765753,\n",
       " 34.9249653,\n",
       " 134.755,\n",
       " 14.5208584,\n",
       " 5.7480821,\n",
       " 10.3333283]"
      ]
     },
     "execution_count": 59,
     "metadata": {},
     "output_type": "execute_result"
    }
   ],
   "source": [
    "longitude"
   ]
  },
  {
   "cell_type": "markdown",
   "metadata": {},
   "source": [
    "### Folium"
   ]
  },
  {
   "cell_type": "markdown",
   "metadata": {},
   "source": [
    "Folium allows Python users the ability to create maps using a leaflet.js, and so the resulting map is a leaflet map.\n",
    "\n",
    "We will create a world map using Folium, and then populate it with circle markers that will hover over the countries in the `top_10_stream_viewers` list. These circle markers will contain the country name and the number of viewers from this country were watching League of Legends."
   ]
  },
  {
   "cell_type": "code",
   "execution_count": 60,
   "metadata": {},
   "outputs": [],
   "source": [
    "# Creating the world map\n",
    "# several parameters can be passed as tiles\n",
    "# OpenStreetMap provides an aesthetically pleasing map, so we will use that\n",
    "world_map= folium.Map(tiles=\"OpenStreetMap\")"
   ]
  },
  {
   "cell_type": "code",
   "execution_count": 61,
   "metadata": {},
   "outputs": [],
   "source": [
    "# creating a DataFrame with the data that will be required in the markers\n",
    "\n",
    "world_df = pd.DataFrame({\n",
    "    'Country': top_10_stream_countries,\n",
    "    'Number of viewers': top_10_stream_viewers,\n",
    "    'Latitude': latitude,\n",
    "    'Longitude': longitude\n",
    "})"
   ]
  },
  {
   "cell_type": "code",
   "execution_count": 62,
   "metadata": {},
   "outputs": [
    {
     "name": "stdout",
     "output_type": "stream",
     "text": [
      "  Country  Number of viewers   Latitude   Longitude\n",
      "0      US              85606  39.783730 -100.445882\n",
      "1      CA              13034  61.066692 -107.991707\n",
      "2      DE              10835  51.083420   10.423447\n",
      "3    None               7641  44.933143    7.540121\n",
      "4      GB               6964  54.702354   -3.276575\n",
      "5      TR               4412  38.959759   34.924965\n",
      "6      AU               3911 -24.776109  134.755000\n",
      "7      SE               3533  59.674971   14.520858\n",
      "8      NL               3213  52.500170    5.748082\n",
      "9      DK               2909  55.670249   10.333328\n"
     ]
    }
   ],
   "source": [
    "print(world_df)"
   ]
  },
  {
   "cell_type": "markdown",
   "metadata": {},
   "source": [
    "### Plotting the countries on the map"
   ]
  },
  {
   "cell_type": "code",
   "execution_count": 63,
   "metadata": {},
   "outputs": [
    {
     "data": {
      "text/html": [
       "<div style=\"width:100%;\"><div style=\"position:relative;width:100%;height:0;padding-bottom:60%;\"><span style=\"color:#565656\">Make this Notebook Trusted to load map: File -> Trust Notebook</span><iframe src=\"about:blank\" style=\"position:absolute;width:100%;height:100%;left:0;top:0;border:none !important;\" data-html=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 onload=\"this.contentDocument.open();this.contentDocument.write(atob(this.getAttribute('data-html')));this.contentDocument.close();\" allowfullscreen webkitallowfullscreen mozallowfullscreen></iframe></div></div>"
      ],
      "text/plain": [
       "<folium.folium.Map at 0x2528ba38288>"
      ]
     },
     "execution_count": 63,
     "metadata": {},
     "output_type": "execute_result"
    }
   ],
   "source": [
    "# first, add the clusters to the map\n",
    "marker_cluster = MarkerCluster().add_to(world_map)\n",
    "\n",
    "# now add the data from the world_df DataFrame to each cluster\n",
    "for i in range(len(world_df)):\n",
    "        lat = world_df.iloc[i]['Latitude']\n",
    "        long = world_df.iloc[i]['Longitude']\n",
    "        radius=10\n",
    "        popup_text = \"\"\"Country : {}<br>\n",
    "                    # of viewers : {}<br>\"\"\"\n",
    "        popup_text = popup_text.format(world_df.iloc[i]['Country'],\n",
    "                                   world_df.iloc[i]['Number of viewers'])\n",
    "        \n",
    "        folium.CircleMarker(location = [lat, long], radius=radius, popup= popup_text, fill =True).add_to(marker_cluster)\n",
    "\n",
    "world_map"
   ]
  },
  {
   "cell_type": "code",
   "execution_count": 64,
   "metadata": {},
   "outputs": [
    {
     "name": "stderr",
     "output_type": "stream",
     "text": [
      "A subdirectory or file figures already exists.\n"
     ]
    },
    {
     "name": "stdout",
     "output_type": "stream",
     "text": [
      "C:\\Users\\Stewa\\Documents\\All things data\\Data Sets\\Codecademy data\\Twitch\\ClippedViewsPerGame.png\n",
      "C:\\Users\\Stewa\\Documents\\All things data\\Data Sets\\Codecademy data\\Twitch\\LoLViewsByCountry.png\n",
      "C:\\Users\\Stewa\\Documents\\All things data\\Data Sets\\Codecademy data\\Twitch\\ViewersPerHour.png\n",
      "C:\\Users\\Stewa\\Documents\\All things data\\Data Sets\\Codecademy data\\Twitch\\ViewsPerGame.png\n",
      "        4 file(s) moved.\n"
     ]
    }
   ],
   "source": [
    "!mkdir figures\n",
    "!move *.png figures"
   ]
  }
 ],
 "metadata": {
  "kernelspec": {
   "display_name": "Python 3",
   "language": "python",
   "name": "python3"
  },
  "language_info": {
   "codemirror_mode": {
    "name": "ipython",
    "version": 3
   },
   "file_extension": ".py",
   "mimetype": "text/x-python",
   "name": "python",
   "nbconvert_exporter": "python",
   "pygments_lexer": "ipython3",
   "version": "3.7.4"
  },
  "toc": {
   "base_numbering": 1,
   "nav_menu": {},
   "number_sections": true,
   "sideBar": true,
   "skip_h1_title": false,
   "title_cell": "Table of Contents",
   "title_sidebar": "Contents",
   "toc_cell": true,
   "toc_position": {
    "height": "calc(100% - 180px)",
    "left": "10px",
    "top": "150px",
    "width": "384px"
   },
   "toc_section_display": true,
   "toc_window_display": true
  },
  "varInspector": {
   "cols": {
    "lenName": 16,
    "lenType": 16,
    "lenVar": 40
   },
   "kernels_config": {
    "python": {
     "delete_cmd_postfix": "",
     "delete_cmd_prefix": "del ",
     "library": "var_list.py",
     "varRefreshCmd": "print(var_dic_list())"
    },
    "r": {
     "delete_cmd_postfix": ") ",
     "delete_cmd_prefix": "rm(",
     "library": "var_list.r",
     "varRefreshCmd": "cat(var_dic_list()) "
    }
   },
   "types_to_exclude": [
    "module",
    "function",
    "builtin_function_or_method",
    "instance",
    "_Feature"
   ],
   "window_display": false
  }
 },
 "nbformat": 4,
 "nbformat_minor": 4
}
